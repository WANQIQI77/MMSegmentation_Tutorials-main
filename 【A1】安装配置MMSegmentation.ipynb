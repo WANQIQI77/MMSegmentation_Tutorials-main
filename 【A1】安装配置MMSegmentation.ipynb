{
 "cells": [
  {
   "cell_type": "markdown",
   "id": "bc3d1961-9081-49c9-be56-ad0c748decf1",
   "metadata": {},
   "source": [
    "# 安装配置MMSegmentation"
   ]
  },
  {
   "cell_type": "markdown",
   "id": "0fc8ebd8-db6e-4a17-895f-2f87fc98ca79",
   "metadata": {},
   "source": [
    "按照顺序逐行运行本代码，即可安装配置 MMCV、MMSegmentation环境\n",
    "\n",
    "推荐代码运行[云GPU环境](https://featurize.cn?s=d7ce99f842414bfcaea5662a97581bd1)：GPU RTX 3060、CUDA v11.3\n",
    "\n",
    "作者：同济子豪兄 2023-1-11 6-11 6-25"
   ]
  },
  {
   "cell_type": "markdown",
   "id": "63d0dc47-4601-49a3-8d25-12b4d24fa6f0",
   "metadata": {},
   "source": [
    "> 提示：以下代码运行时，若长时间运行卡着不动，可重启 kernel 后重新运行一遍"
   ]
  },
  {
   "cell_type": "markdown",
   "id": "6fc1c686-1267-4503-b9e4-bcb188a7f974",
   "metadata": {
    "tags": []
   },
   "source": [
    "## 安装Pytorch\n",
    "\n",
    "https://pytorch.org"
   ]
  },
  {
   "cell_type": "code",
   "execution_count": 33,
   "id": "5c18acad-1a02-4cf4-a06a-6a75ac8cb479",
   "metadata": {
    "ExecuteTime": {
     "end_time": "2024-01-17T09:36:11.330196500Z",
     "start_time": "2024-01-17T09:36:11.314679800Z"
    }
   },
   "outputs": [],
   "source": [
    "# !pip3 install torch==1.10.1+cu113 torchvision==0.11.2+cu113 -f https://download.pytorch.org/whl/cu113/torch_stable.html"
   ]
  },
  {
   "cell_type": "code",
   "execution_count": 34,
   "id": "0d1af6fb-e4c7-4eb7-afdf-4754f964cd04",
   "metadata": {
    "ExecuteTime": {
     "end_time": "2024-01-17T09:36:11.333209200Z",
     "start_time": "2024-01-17T09:36:11.327679600Z"
    }
   },
   "outputs": [
    {
     "data": {
      "text/plain": [
       "'2.1.2+cu121'"
      ]
     },
     "execution_count": 34,
     "metadata": {},
     "output_type": "execute_result"
    }
   ],
   "source": [
    "import torch\n",
    "torch.__version__"
   ]
  },
  {
   "cell_type": "markdown",
   "id": "054b64e4-4796-4136-b45e-3664b281cf30",
   "metadata": {},
   "source": [
    "## 用MIM安装MMCV"
   ]
  },
  {
   "cell_type": "code",
   "execution_count": 35,
   "id": "3fab4b08-7b45-4c82-923c-b08b680d1c76",
   "metadata": {
    "ExecuteTime": {
     "end_time": "2024-01-17T09:36:35.361527900Z",
     "start_time": "2024-01-17T09:36:11.338207500Z"
    }
   },
   "outputs": [
    {
     "name": "stdout",
     "output_type": "stream",
     "text": [
      "Requirement already satisfied: openmim in c:\\users\\one77\\.conda\\envs\\dl\\lib\\site-packages (0.3.9)\n",
      "Requirement already satisfied: Click in c:\\users\\one77\\.conda\\envs\\dl\\lib\\site-packages (from openmim) (8.1.7)\n",
      "Requirement already satisfied: colorama in c:\\users\\one77\\.conda\\envs\\dl\\lib\\site-packages (from openmim) (0.4.6)\n",
      "Requirement already satisfied: model-index in c:\\users\\one77\\.conda\\envs\\dl\\lib\\site-packages (from openmim) (0.1.11)\n",
      "Requirement already satisfied: opendatalab in c:\\users\\one77\\.conda\\envs\\dl\\lib\\site-packages (from openmim) (0.0.10)\n",
      "Requirement already satisfied: pandas in c:\\users\\one77\\.conda\\envs\\dl\\lib\\site-packages (from openmim) (2.1.4)\n",
      "Requirement already satisfied: pip>=19.3 in c:\\users\\one77\\.conda\\envs\\dl\\lib\\site-packages (from openmim) (23.3.1)\n",
      "Requirement already satisfied: requests in c:\\users\\one77\\.conda\\envs\\dl\\lib\\site-packages (from openmim) (2.28.2)\n",
      "Requirement already satisfied: rich in c:\\users\\one77\\.conda\\envs\\dl\\lib\\site-packages (from openmim) (13.4.2)\n",
      "Requirement already satisfied: tabulate in c:\\users\\one77\\.conda\\envs\\dl\\lib\\site-packages (from openmim) (0.9.0)\n",
      "Requirement already satisfied: pyyaml in c:\\users\\one77\\.conda\\envs\\dl\\lib\\site-packages (from model-index->openmim) (6.0.1)\n",
      "Requirement already satisfied: markdown in c:\\users\\one77\\.conda\\envs\\dl\\lib\\site-packages (from model-index->openmim) (3.5.1)\n",
      "Requirement already satisfied: ordered-set in c:\\users\\one77\\.conda\\envs\\dl\\lib\\site-packages (from model-index->openmim) (4.1.0)\n",
      "Requirement already satisfied: pycryptodome in c:\\users\\one77\\.conda\\envs\\dl\\lib\\site-packages (from opendatalab->openmim) (3.20.0)\n",
      "Requirement already satisfied: tqdm in c:\\users\\one77\\.conda\\envs\\dl\\lib\\site-packages (from opendatalab->openmim) (4.65.2)\n",
      "Requirement already satisfied: openxlab in c:\\users\\one77\\.conda\\envs\\dl\\lib\\site-packages (from opendatalab->openmim) (0.0.34)\n",
      "Requirement already satisfied: pywin32 in c:\\users\\one77\\.conda\\envs\\dl\\lib\\site-packages (from opendatalab->openmim) (305.1)\n",
      "Requirement already satisfied: charset-normalizer<4,>=2 in c:\\users\\one77\\.conda\\envs\\dl\\lib\\site-packages (from requests->openmim) (2.0.4)\n",
      "Requirement already satisfied: idna<4,>=2.5 in c:\\users\\one77\\.conda\\envs\\dl\\lib\\site-packages (from requests->openmim) (3.4)\n",
      "Requirement already satisfied: urllib3<1.27,>=1.21.1 in c:\\users\\one77\\.conda\\envs\\dl\\lib\\site-packages (from requests->openmim) (1.26.18)\n",
      "Requirement already satisfied: certifi>=2017.4.17 in c:\\users\\one77\\.conda\\envs\\dl\\lib\\site-packages (from requests->openmim) (2023.11.17)\n",
      "Requirement already satisfied: numpy<2,>=1.23.2 in c:\\users\\one77\\.conda\\envs\\dl\\lib\\site-packages (from pandas->openmim) (1.26.3)\n",
      "Requirement already satisfied: python-dateutil>=2.8.2 in c:\\users\\one77\\.conda\\envs\\dl\\lib\\site-packages (from pandas->openmim) (2.8.2)\n",
      "Requirement already satisfied: pytz>=2020.1 in c:\\users\\one77\\.conda\\envs\\dl\\lib\\site-packages (from pandas->openmim) (2023.3.post1)\n",
      "Requirement already satisfied: tzdata>=2022.1 in c:\\users\\one77\\.conda\\envs\\dl\\lib\\site-packages (from pandas->openmim) (2023.4)\n",
      "Requirement already satisfied: markdown-it-py>=2.2.0 in c:\\users\\one77\\.conda\\envs\\dl\\lib\\site-packages (from rich->openmim) (3.0.0)\n",
      "Requirement already satisfied: pygments<3.0.0,>=2.13.0 in c:\\users\\one77\\.conda\\envs\\dl\\lib\\site-packages (from rich->openmim) (2.15.1)\n",
      "Requirement already satisfied: mdurl~=0.1 in c:\\users\\one77\\.conda\\envs\\dl\\lib\\site-packages (from markdown-it-py>=2.2.0->rich->openmim) (0.1.2)\n",
      "Requirement already satisfied: six>=1.5 in c:\\users\\one77\\.conda\\envs\\dl\\lib\\site-packages (from python-dateutil>=2.8.2->pandas->openmim) (1.16.0)\n",
      "Requirement already satisfied: oss2~=2.17.0 in c:\\users\\one77\\.conda\\envs\\dl\\lib\\site-packages (from openxlab->opendatalab->openmim) (2.17.0)\n",
      "Requirement already satisfied: setuptools~=60.2.0 in c:\\users\\one77\\.conda\\envs\\dl\\lib\\site-packages (from openxlab->opendatalab->openmim) (60.2.0)\n",
      "Requirement already satisfied: crcmod>=1.7 in c:\\users\\one77\\.conda\\envs\\dl\\lib\\site-packages (from oss2~=2.17.0->openxlab->opendatalab->openmim) (1.7)\n",
      "Requirement already satisfied: aliyun-python-sdk-kms>=2.4.1 in c:\\users\\one77\\.conda\\envs\\dl\\lib\\site-packages (from oss2~=2.17.0->openxlab->opendatalab->openmim) (2.16.2)\n",
      "Requirement already satisfied: aliyun-python-sdk-core>=2.13.12 in c:\\users\\one77\\.conda\\envs\\dl\\lib\\site-packages (from oss2~=2.17.0->openxlab->opendatalab->openmim) (2.14.0)\n",
      "Requirement already satisfied: jmespath<1.0.0,>=0.9.3 in c:\\users\\one77\\.conda\\envs\\dl\\lib\\site-packages (from aliyun-python-sdk-core>=2.13.12->oss2~=2.17.0->openxlab->opendatalab->openmim) (0.10.0)\n",
      "Requirement already satisfied: cryptography>=2.6.0 in c:\\users\\one77\\.conda\\envs\\dl\\lib\\site-packages (from aliyun-python-sdk-core>=2.13.12->oss2~=2.17.0->openxlab->opendatalab->openmim) (41.0.7)\n",
      "Requirement already satisfied: cffi>=1.12 in c:\\users\\one77\\.conda\\envs\\dl\\lib\\site-packages (from cryptography>=2.6.0->aliyun-python-sdk-core>=2.13.12->oss2~=2.17.0->openxlab->opendatalab->openmim) (1.16.0)\n",
      "Requirement already satisfied: pycparser in c:\\users\\one77\\.conda\\envs\\dl\\lib\\site-packages (from cffi>=1.12->cryptography>=2.6.0->aliyun-python-sdk-core>=2.13.12->oss2~=2.17.0->openxlab->opendatalab->openmim) (2.21)\n",
      "Looking in links: https://download.openmmlab.com/mmcv/dist/cu121/torch2.1.0/index.html\n",
      "Requirement already satisfied: mmengine in c:\\users\\one77\\.conda\\envs\\dl\\lib\\site-packages (0.10.2)\n",
      "Requirement already satisfied: addict in c:\\users\\one77\\.conda\\envs\\dl\\lib\\site-packages (from mmengine) (2.4.0)\n",
      "Requirement already satisfied: matplotlib in c:\\users\\one77\\.conda\\envs\\dl\\lib\\site-packages (from mmengine) (3.8.2)\n",
      "Requirement already satisfied: numpy in c:\\users\\one77\\.conda\\envs\\dl\\lib\\site-packages (from mmengine) (1.26.3)\n",
      "Requirement already satisfied: pyyaml in c:\\users\\one77\\.conda\\envs\\dl\\lib\\site-packages (from mmengine) (6.0.1)\n",
      "Requirement already satisfied: rich in c:\\users\\one77\\.conda\\envs\\dl\\lib\\site-packages (from mmengine) (13.4.2)\n",
      "Requirement already satisfied: termcolor in c:\\users\\one77\\.conda\\envs\\dl\\lib\\site-packages (from mmengine) (2.4.0)\n",
      "Requirement already satisfied: yapf in c:\\users\\one77\\.conda\\envs\\dl\\lib\\site-packages (from mmengine) (0.40.2)\n",
      "Requirement already satisfied: opencv-python>=3 in c:\\users\\one77\\.conda\\envs\\dl\\lib\\site-packages (from mmengine) (4.9.0.80)\n",
      "Requirement already satisfied: regex in c:\\users\\one77\\.conda\\envs\\dl\\lib\\site-packages (from mmengine) (2023.12.25)\n",
      "Requirement already satisfied: contourpy>=1.0.1 in c:\\users\\one77\\.conda\\envs\\dl\\lib\\site-packages (from matplotlib->mmengine) (1.2.0)\n",
      "Requirement already satisfied: cycler>=0.10 in c:\\users\\one77\\.conda\\envs\\dl\\lib\\site-packages (from matplotlib->mmengine) (0.12.1)\n",
      "Requirement already satisfied: fonttools>=4.22.0 in c:\\users\\one77\\.conda\\envs\\dl\\lib\\site-packages (from matplotlib->mmengine) (4.47.0)\n",
      "Requirement already satisfied: kiwisolver>=1.3.1 in c:\\users\\one77\\.conda\\envs\\dl\\lib\\site-packages (from matplotlib->mmengine) (1.4.5)\n",
      "Requirement already satisfied: packaging>=20.0 in c:\\users\\one77\\.conda\\envs\\dl\\lib\\site-packages (from matplotlib->mmengine) (23.1)\n",
      "Requirement already satisfied: pillow>=8 in c:\\users\\one77\\.conda\\envs\\dl\\lib\\site-packages (from matplotlib->mmengine) (10.2.0)\n",
      "Requirement already satisfied: pyparsing>=2.3.1 in c:\\users\\one77\\.conda\\envs\\dl\\lib\\site-packages (from matplotlib->mmengine) (3.1.1)\n",
      "Requirement already satisfied: python-dateutil>=2.7 in c:\\users\\one77\\.conda\\envs\\dl\\lib\\site-packages (from matplotlib->mmengine) (2.8.2)\n",
      "Requirement already satisfied: markdown-it-py>=2.2.0 in c:\\users\\one77\\.conda\\envs\\dl\\lib\\site-packages (from rich->mmengine) (3.0.0)\n",
      "Requirement already satisfied: pygments<3.0.0,>=2.13.0 in c:\\users\\one77\\.conda\\envs\\dl\\lib\\site-packages (from rich->mmengine) (2.15.1)\n",
      "Requirement already satisfied: importlib-metadata>=6.6.0 in c:\\users\\one77\\.conda\\envs\\dl\\lib\\site-packages (from yapf->mmengine) (7.0.1)\n",
      "Requirement already satisfied: platformdirs>=3.5.1 in c:\\users\\one77\\.conda\\envs\\dl\\lib\\site-packages (from yapf->mmengine) (3.10.0)\n",
      "Requirement already satisfied: tomli>=2.0.1 in c:\\users\\one77\\.conda\\envs\\dl\\lib\\site-packages (from yapf->mmengine) (2.0.1)\n",
      "Requirement already satisfied: zipp>=0.5 in c:\\users\\one77\\.conda\\envs\\dl\\lib\\site-packages (from importlib-metadata>=6.6.0->yapf->mmengine) (3.17.0)\n",
      "Requirement already satisfied: mdurl~=0.1 in c:\\users\\one77\\.conda\\envs\\dl\\lib\\site-packages (from markdown-it-py>=2.2.0->rich->mmengine) (0.1.2)\n",
      "Requirement already satisfied: six>=1.5 in c:\\users\\one77\\.conda\\envs\\dl\\lib\\site-packages (from python-dateutil>=2.7->matplotlib->mmengine) (1.16.0)\n",
      "Looking in links: https://download.openmmlab.com/mmcv/dist/cu121/torch2.1.0/index.html"
     ]
    },
    {
     "name": "stderr",
     "output_type": "stream",
     "text": [
      "  error: subprocess-exited-with-error\n",
      "  \n",
      "  python setup.py bdist_wheel did not run successfully.\n",
      "  exit code: 1\n",
      "  \n",
      "  [555 lines of output]\n",
      "  running bdist_wheel\n",
      "  C:\\Users\\One77\\.conda\\envs\\dl\\Lib\\site-packages\\torch\\utils\\cpp_extension.py:502: UserWarning: Attempted to use ninja as the BuildExtension backend but we could not find ninja.. Falling back to using the slow distutils backend.\n",
      "    warnings.warn(msg.format('we could not find ninja.'))\n",
      "  running build\n",
      "  running build_py\n",
      "  creating build\n",
      "  creating build\\lib.win-amd64-3.11\n",
      "  creating build\\lib.win-amd64-3.11\\mmcv\n",
      "  copying mmcv\\version.py -> build\\lib.win-amd64-3.11\\mmcv\n",
      "  copying mmcv\\__init__.py -> build\\lib.win-amd64-3.11\\mmcv\n",
      "  creating build\\lib.win-amd64-3.11\\mmcv\\arraymisc\n",
      "  copying mmcv\\arraymisc\\quantization.py -> build\\lib.win-amd64-3.11\\mmcv\\arraymisc\n",
      "  copying mmcv\\arraymisc\\__init__.py -> build\\lib.win-amd64-3.11\\mmcv\\arraymisc\n",
      "  creating build\\lib.win-amd64-3.11\\mmcv\\cnn\n",
      "  copying mmcv\\cnn\\alexnet.py -> build\\lib.win-amd64-3.11\\mmcv\\cnn\n",
      "  copying mmcv\\cnn\\resnet.py -> build\\lib.win-amd64-3.11\\mmcv\\cnn\n",
      "  copying mmcv\\cnn\\vgg.py -> build\\lib.win-amd64-3.11\\mmcv\\cnn\n",
      "  copying mmcv\\cnn\\__init__.py -> build\\lib.win-amd64-3.11\\mmcv\\cnn\n",
      "  creating build\\lib.win-amd64-3.11\\mmcv\\image\n",
      "  copying mmcv\\image\\colorspace.py -> build\\lib.win-amd64-3.11\\mmcv\\image\n",
      "  copying mmcv\\image\\geometric.py -> build\\lib.win-amd64-3.11\\mmcv\\image\n",
      "  copying mmcv\\image\\io.py -> build\\lib.win-amd64-3.11\\mmcv\\image\n",
      "  copying mmcv\\image\\misc.py -> build\\lib.win-amd64-3.11\\mmcv\\image\n",
      "  copying mmcv\\image\\photometric.py -> build\\lib.win-amd64-3.11\\mmcv\\image\n",
      "  copying mmcv\\image\\__init__.py -> build\\lib.win-amd64-3.11\\mmcv\\image\n",
      "  creating build\\lib.win-amd64-3.11\\mmcv\\ops\n",
      "  copying mmcv\\ops\\active_rotated_filter.py -> build\\lib.win-amd64-3.11\\mmcv\\ops\n",
      "  copying mmcv\\ops\\assign_score_withk.py -> build\\lib.win-amd64-3.11\\mmcv\\ops\n",
      "  copying mmcv\\ops\\ball_query.py -> build\\lib.win-amd64-3.11\\mmcv\\ops\n",
      "  copying mmcv\\ops\\bbox.py -> build\\lib.win-amd64-3.11\\mmcv\\ops\n",
      "  copying mmcv\\ops\\bezier_align.py -> build\\lib.win-amd64-3.11\\mmcv\\ops\n",
      "  copying mmcv\\ops\\bias_act.py -> build\\lib.win-amd64-3.11\\mmcv\\ops\n",
      "  copying mmcv\\ops\\border_align.py -> build\\lib.win-amd64-3.11\\mmcv\\ops\n",
      "  copying mmcv\\ops\\box_iou_quadri.py -> build\\lib.win-amd64-3.11\\mmcv\\ops\n",
      "  copying mmcv\\ops\\box_iou_rotated.py -> build\\lib.win-amd64-3.11\\mmcv\\ops\n",
      "  copying mmcv\\ops\\carafe.py -> build\\lib.win-amd64-3.11\\mmcv\\ops\n",
      "  copying mmcv\\ops\\cc_attention.py -> build\\lib.win-amd64-3.11\\mmcv\\ops\n",
      "  copying mmcv\\ops\\chamfer_distance.py -> build\\lib.win-amd64-3.11\\mmcv\\ops\n",
      "  copying mmcv\\ops\\contour_expand.py -> build\\lib.win-amd64-3.11\\mmcv\\ops\n",
      "  copying mmcv\\ops\\conv2d_gradfix.py -> build\\lib.win-amd64-3.11\\mmcv\\ops\n",
      "  copying mmcv\\ops\\convex_iou.py -> build\\lib.win-amd64-3.11\\mmcv\\ops\n",
      "  copying mmcv\\ops\\corner_pool.py -> build\\lib.win-amd64-3.11\\mmcv\\ops\n",
      "  copying mmcv\\ops\\correlation.py -> build\\lib.win-amd64-3.11\\mmcv\\ops\n",
      "  copying mmcv\\ops\\deform_conv.py -> build\\lib.win-amd64-3.11\\mmcv\\ops\n",
      "  copying mmcv\\ops\\deform_roi_pool.py -> build\\lib.win-amd64-3.11\\mmcv\\ops\n",
      "  copying mmcv\\ops\\deprecated_wrappers.py -> build\\lib.win-amd64-3.11\\mmcv\\ops\n",
      "  copying mmcv\\ops\\diff_iou_rotated.py -> build\\lib.win-amd64-3.11\\mmcv\\ops\n",
      "  copying mmcv\\ops\\filtered_lrelu.py -> build\\lib.win-amd64-3.11\\mmcv\\ops\n",
      "  copying mmcv\\ops\\focal_loss.py -> build\\lib.win-amd64-3.11\\mmcv\\ops\n",
      "  copying mmcv\\ops\\furthest_point_sample.py -> build\\lib.win-amd64-3.11\\mmcv\\ops\n",
      "  copying mmcv\\ops\\fused_bias_leakyrelu.py -> build\\lib.win-amd64-3.11\\mmcv\\ops\n",
      "  copying mmcv\\ops\\gather_points.py -> build\\lib.win-amd64-3.11\\mmcv\\ops\n",
      "  copying mmcv\\ops\\group_points.py -> build\\lib.win-amd64-3.11\\mmcv\\ops\n",
      "  copying mmcv\\ops\\info.py -> build\\lib.win-amd64-3.11\\mmcv\\ops\n",
      "  copying mmcv\\ops\\iou3d.py -> build\\lib.win-amd64-3.11\\mmcv\\ops\n",
      "  copying mmcv\\ops\\knn.py -> build\\lib.win-amd64-3.11\\mmcv\\ops\n",
      "  copying mmcv\\ops\\masked_conv.py -> build\\lib.win-amd64-3.11\\mmcv\\ops\n",
      "  copying mmcv\\ops\\merge_cells.py -> build\\lib.win-amd64-3.11\\mmcv\\ops\n",
      "  copying mmcv\\ops\\min_area_polygons.py -> build\\lib.win-amd64-3.11\\mmcv\\ops\n",
      "  copying mmcv\\ops\\modulated_deform_conv.py -> build\\lib.win-amd64-3.11\\mmcv\\ops\n",
      "  copying mmcv\\ops\\multi_scale_deform_attn.py -> build\\lib.win-amd64-3.11\\mmcv\\ops\n",
      "  copying mmcv\\ops\\nms.py -> build\\lib.win-amd64-3.11\\mmcv\\ops\n",
      "  copying mmcv\\ops\\pixel_group.py -> build\\lib.win-amd64-3.11\\mmcv\\ops\n",
      "  copying mmcv\\ops\\points_in_boxes.py -> build\\lib.win-amd64-3.11\\mmcv\\ops\n",
      "  copying mmcv\\ops\\points_in_polygons.py -> build\\lib.win-amd64-3.11\\mmcv\\ops\n",
      "  copying mmcv\\ops\\points_sampler.py -> build\\lib.win-amd64-3.11\\mmcv\\ops\n",
      "  copying mmcv\\ops\\point_sample.py -> build\\lib.win-amd64-3.11\\mmcv\\ops\n",
      "  copying mmcv\\ops\\prroi_pool.py -> build\\lib.win-amd64-3.11\\mmcv\\ops\n",
      "  copying mmcv\\ops\\psa_mask.py -> build\\lib.win-amd64-3.11\\mmcv\\ops\n",
      "  copying mmcv\\ops\\riroi_align_rotated.py -> build\\lib.win-amd64-3.11\\mmcv\\ops\n",
      "  copying mmcv\\ops\\roiaware_pool3d.py -> build\\lib.win-amd64-3.11\\mmcv\\ops\n",
      "  copying mmcv\\ops\\roipoint_pool3d.py -> build\\lib.win-amd64-3.11\\mmcv\\ops\n",
      "  copying mmcv\\ops\\roi_align.py -> build\\lib.win-amd64-3.11\\mmcv\\ops\n",
      "  copying mmcv\\ops\\roi_align_rotated.py -> build\\lib.win-amd64-3.11\\mmcv\\ops\n",
      "  copying mmcv\\ops\\roi_pool.py -> build\\lib.win-amd64-3.11\\mmcv\\ops\n",
      "  copying mmcv\\ops\\rotated_feature_align.py -> build\\lib.win-amd64-3.11\\mmcv\\ops\n",
      "  copying mmcv\\ops\\saconv.py -> build\\lib.win-amd64-3.11\\mmcv\\ops\n",
      "  copying mmcv\\ops\\scatter_points.py -> build\\lib.win-amd64-3.11\\mmcv\\ops\n",
      "  copying mmcv\\ops\\sparse_conv.py -> build\\lib.win-amd64-3.11\\mmcv\\ops\n",
      "  copying mmcv\\ops\\sparse_functional.py -> build\\lib.win-amd64-3.11\\mmcv\\ops\n",
      "  copying mmcv\\ops\\sparse_modules.py -> build\\lib.win-amd64-3.11\\mmcv\\ops\n",
      "  copying mmcv\\ops\\sparse_ops.py -> build\\lib.win-amd64-3.11\\mmcv\\ops\n",
      "  copying mmcv\\ops\\sparse_pool.py -> build\\lib.win-amd64-3.11\\mmcv\\ops\n",
      "  copying mmcv\\ops\\sparse_structure.py -> build\\lib.win-amd64-3.11\\mmcv\\ops\n",
      "  copying mmcv\\ops\\sync_bn.py -> build\\lib.win-amd64-3.11\\mmcv\\ops\n",
      "  copying mmcv\\ops\\three_interpolate.py -> build\\lib.win-amd64-3.11\\mmcv\\ops\n",
      "  copying mmcv\\ops\\three_nn.py -> build\\lib.win-amd64-3.11\\mmcv\\ops\n",
      "  copying mmcv\\ops\\tin_shift.py -> build\\lib.win-amd64-3.11\\mmcv\\ops\n",
      "  copying mmcv\\ops\\upfirdn2d.py -> build\\lib.win-amd64-3.11\\mmcv\\ops\n",
      "  copying mmcv\\ops\\voxelize.py -> build\\lib.win-amd64-3.11\\mmcv\\ops\n",
      "  copying mmcv\\ops\\__init__.py -> build\\lib.win-amd64-3.11\\mmcv\\ops\n",
      "  creating build\\lib.win-amd64-3.11\\mmcv\\transforms\n",
      "  copying mmcv\\transforms\\base.py -> build\\lib.win-amd64-3.11\\mmcv\\transforms\n",
      "  copying mmcv\\transforms\\builder.py -> build\\lib.win-amd64-3.11\\mmcv\\transforms\n",
      "  copying mmcv\\transforms\\formatting.py -> build\\lib.win-amd64-3.11\\mmcv\\transforms\n",
      "  copying mmcv\\transforms\\loading.py -> build\\lib.win-amd64-3.11\\mmcv\\transforms\n",
      "  copying mmcv\\transforms\\processing.py -> build\\lib.win-amd64-3.11\\mmcv\\transforms\n",
      "  copying mmcv\\transforms\\utils.py -> build\\lib.win-amd64-3.11\\mmcv\\transforms\n",
      "  copying mmcv\\transforms\\wrappers.py -> build\\lib.win-amd64-3.11\\mmcv\\transforms\n",
      "  copying mmcv\\transforms\\__init__.py -> build\\lib.win-amd64-3.11\\mmcv\\transforms\n",
      "  creating build\\lib.win-amd64-3.11\\mmcv\\utils\n",
      "  copying mmcv\\utils\\device_type.py -> build\\lib.win-amd64-3.11\\mmcv\\utils\n",
      "  copying mmcv\\utils\\env.py -> build\\lib.win-amd64-3.11\\mmcv\\utils\n",
      "  copying mmcv\\utils\\ext_loader.py -> build\\lib.win-amd64-3.11\\mmcv\\utils\n",
      "  copying mmcv\\utils\\parrots_jit.py -> build\\lib.win-amd64-3.11\\mmcv\\utils\n",
      "  copying mmcv\\utils\\__init__.py -> build\\lib.win-amd64-3.11\\mmcv\\utils\n",
      "  creating build\\lib.win-amd64-3.11\\mmcv\\video\n",
      "  copying mmcv\\video\\io.py -> build\\lib.win-amd64-3.11\\mmcv\\video\n",
      "  copying mmcv\\video\\optflow.py -> build\\lib.win-amd64-3.11\\mmcv\\video\n",
      "  copying mmcv\\video\\processing.py -> build\\lib.win-amd64-3.11\\mmcv\\video\n",
      "  copying mmcv\\video\\__init__.py -> build\\lib.win-amd64-3.11\\mmcv\\video\n",
      "  creating build\\lib.win-amd64-3.11\\mmcv\\visualization\n",
      "  copying mmcv\\visualization\\color.py -> build\\lib.win-amd64-3.11\\mmcv\\visualization\n",
      "  copying mmcv\\visualization\\image.py -> build\\lib.win-amd64-3.11\\mmcv\\visualization\n",
      "  copying mmcv\\visualization\\optflow.py -> build\\lib.win-amd64-3.11\\mmcv\\visualization\n",
      "  copying mmcv\\visualization\\__init__.py -> build\\lib.win-amd64-3.11\\mmcv\\visualization\n",
      "  creating build\\lib.win-amd64-3.11\\mmcv\\cnn\\bricks\n",
      "  copying mmcv\\cnn\\bricks\\activation.py -> build\\lib.win-amd64-3.11\\mmcv\\cnn\\bricks\n",
      "  copying mmcv\\cnn\\bricks\\context_block.py -> build\\lib.win-amd64-3.11\\mmcv\\cnn\\bricks\n",
      "  copying mmcv\\cnn\\bricks\\conv.py -> build\\lib.win-amd64-3.11\\mmcv\\cnn\\bricks\n",
      "  copying mmcv\\cnn\\bricks\\conv2d_adaptive_padding.py -> build\\lib.win-amd64-3.11\\mmcv\\cnn\\bricks\n",
      "  copying mmcv\\cnn\\bricks\\conv_module.py -> build\\lib.win-amd64-3.11\\mmcv\\cnn\\bricks\n",
      "  copying mmcv\\cnn\\bricks\\conv_ws.py -> build\\lib.win-amd64-3.11\\mmcv\\cnn\\bricks\n",
      "  copying mmcv\\cnn\\bricks\\depthwise_separable_conv_module.py -> build\\lib.win-amd64-3.11\\mmcv\\cnn\\bricks\n",
      "  copying mmcv\\cnn\\bricks\\drop.py -> build\\lib.win-amd64-3.11\\mmcv\\cnn\\bricks\n",
      "  copying mmcv\\cnn\\bricks\\generalized_attention.py -> build\\lib.win-amd64-3.11\\mmcv\\cnn\\bricks\n",
      "  copying mmcv\\cnn\\bricks\\hsigmoid.py -> build\\lib.win-amd64-3.11\\mmcv\\cnn\\bricks\n",
      "  copying mmcv\\cnn\\bricks\\hswish.py -> build\\lib.win-amd64-3.11\\mmcv\\cnn\\bricks\n",
      "  copying mmcv\\cnn\\bricks\\non_local.py -> build\\lib.win-amd64-3.11\\mmcv\\cnn\\bricks\n",
      "  copying mmcv\\cnn\\bricks\\norm.py -> build\\lib.win-amd64-3.11\\mmcv\\cnn\\bricks\n",
      "  copying mmcv\\cnn\\bricks\\padding.py -> build\\lib.win-amd64-3.11\\mmcv\\cnn\\bricks\n",
      "  copying mmcv\\cnn\\bricks\\plugin.py -> build\\lib.win-amd64-3.11\\mmcv\\cnn\\bricks\n",
      "  copying mmcv\\cnn\\bricks\\scale.py -> build\\lib.win-amd64-3.11\\mmcv\\cnn\\bricks\n",
      "  copying mmcv\\cnn\\bricks\\swish.py -> build\\lib.win-amd64-3.11\\mmcv\\cnn\\bricks\n",
      "  copying mmcv\\cnn\\bricks\\transformer.py -> build\\lib.win-amd64-3.11\\mmcv\\cnn\\bricks\n",
      "  copying mmcv\\cnn\\bricks\\upsample.py -> build\\lib.win-amd64-3.11\\mmcv\\cnn\\bricks\n",
      "  copying mmcv\\cnn\\bricks\\wrappers.py -> build\\lib.win-amd64-3.11\\mmcv\\cnn\\bricks\n",
      "  copying mmcv\\cnn\\bricks\\__init__.py -> build\\lib.win-amd64-3.11\\mmcv\\cnn\\bricks\n",
      "  creating build\\lib.win-amd64-3.11\\mmcv\\cnn\\rfsearch\n",
      "  copying mmcv\\cnn\\rfsearch\\operator.py -> build\\lib.win-amd64-3.11\\mmcv\\cnn\\rfsearch\n",
      "  copying mmcv\\cnn\\rfsearch\\search.py -> build\\lib.win-amd64-3.11\\mmcv\\cnn\\rfsearch\n",
      "  copying mmcv\\cnn\\rfsearch\\utils.py -> build\\lib.win-amd64-3.11\\mmcv\\cnn\\rfsearch\n",
      "  copying mmcv\\cnn\\rfsearch\\__init__.py -> build\\lib.win-amd64-3.11\\mmcv\\cnn\\rfsearch\n",
      "  creating build\\lib.win-amd64-3.11\\mmcv\\cnn\\utils\n",
      "  copying mmcv\\cnn\\utils\\flops_counter.py -> build\\lib.win-amd64-3.11\\mmcv\\cnn\\utils\n",
      "  copying mmcv\\cnn\\utils\\fuse_conv_bn.py -> build\\lib.win-amd64-3.11\\mmcv\\cnn\\utils\n",
      "  copying mmcv\\cnn\\utils\\__init__.py -> build\\lib.win-amd64-3.11\\mmcv\\cnn\\utils\n",
      "  running egg_info\n",
      "  warning: manifest_maker: MANIFEST.in, line 6: path 'mmcv/ops/csrc/' cannot end with '/'\n",
      "  \n",
      "  writing manifest file 'mmcv.egg-info\\SOURCES.txt'\n",
      "  creating build\\lib.win-amd64-3.11\\mmcv\\ops\\csrc\n",
      "  creating build\\lib.win-amd64-3.11\\mmcv\\ops\\csrc\\common\n",
      "  copying mmcv\\ops\\csrc\\common\\box_iou_rotated_utils.hpp -> build\\lib.win-amd64-3.11\\mmcv\\ops\\csrc\\common\n",
      "  copying mmcv\\ops\\csrc\\common\\parrots_cpp_helper.hpp -> build\\lib.win-amd64-3.11\\mmcv\\ops\\csrc\\common\n",
      "  copying mmcv\\ops\\csrc\\common\\parrots_cuda_helper.hpp -> build\\lib.win-amd64-3.11\\mmcv\\ops\\csrc\\common\n",
      "  copying mmcv\\ops\\csrc\\common\\pytorch_cpp_helper.hpp -> build\\lib.win-amd64-3.11\\mmcv\\ops\\csrc\\common\n",
      "  copying mmcv\\ops\\csrc\\common\\pytorch_cuda_helper.hpp -> build\\lib.win-amd64-3.11\\mmcv\\ops\\csrc\\common\n",
      "  copying mmcv\\ops\\csrc\\common\\pytorch_device_registry.hpp -> build\\lib.win-amd64-3.11\\mmcv\\ops\\csrc\\common\n",
      "  copying mmcv\\ops\\csrc\\common\\pytorch_mlu_helper.hpp -> build\\lib.win-amd64-3.11\\mmcv\\ops\\csrc\\common\n",
      "  copying mmcv\\ops\\csrc\\common\\pytorch_npu_helper.hpp -> build\\lib.win-amd64-3.11\\mmcv\\ops\\csrc\\common\n",
      "  creating build\\lib.win-amd64-3.11\\mmcv\\ops\\csrc\\common\\cuda\n",
      "  copying mmcv\\ops\\csrc\\common\\cuda\\active_rotated_filter_cuda_kernel.cuh -> build\\lib.win-amd64-3.11\\mmcv\\ops\\csrc\\common\\cuda\n",
      "  copying mmcv\\ops\\csrc\\common\\cuda\\assign_score_withk_cuda_kernel.cuh -> build\\lib.win-amd64-3.11\\mmcv\\ops\\csrc\\common\\cuda\n",
      "  copying mmcv\\ops\\csrc\\common\\cuda\\ball_query_cuda_kernel.cuh -> build\\lib.win-amd64-3.11\\mmcv\\ops\\csrc\\common\\cuda\n",
      "  copying mmcv\\ops\\csrc\\common\\cuda\\bbox_overlaps_cuda_kernel.cuh -> build\\lib.win-amd64-3.11\\mmcv\\ops\\csrc\\common\\cuda\n",
      "  copying mmcv\\ops\\csrc\\common\\cuda\\bezier_align_cuda_kernel.cuh -> build\\lib.win-amd64-3.11\\mmcv\\ops\\csrc\\common\\cuda\n",
      "  copying mmcv\\ops\\csrc\\common\\cuda\\border_align_cuda_kernel.cuh -> build\\lib.win-amd64-3.11\\mmcv\\ops\\csrc\\common\\cuda\n",
      "  copying mmcv\\ops\\csrc\\common\\cuda\\box_iou_quadri_cuda.cuh -> build\\lib.win-amd64-3.11\\mmcv\\ops\\csrc\\common\\cuda\n",
      "  copying mmcv\\ops\\csrc\\common\\cuda\\box_iou_rotated_cuda.cuh -> build\\lib.win-amd64-3.11\\mmcv\\ops\\csrc\\common\\cuda\n",
      "  copying mmcv\\ops\\csrc\\common\\cuda\\carafe_cuda_kernel.cuh -> build\\lib.win-amd64-3.11\\mmcv\\ops\\csrc\\common\\cuda\n",
      "  copying mmcv\\ops\\csrc\\common\\cuda\\carafe_naive_cuda_kernel.cuh -> build\\lib.win-amd64-3.11\\mmcv\\ops\\csrc\\common\\cuda\n",
      "  copying mmcv\\ops\\csrc\\common\\cuda\\chamfer_distance_cuda_kernel.cuh -> build\\lib.win-amd64-3.11\\mmcv\\ops\\csrc\\common\\cuda\n",
      "  copying mmcv\\ops\\csrc\\common\\cuda\\common_cuda_helper.hpp -> build\\lib.win-amd64-3.11\\mmcv\\ops\\csrc\\common\\cuda\n",
      "  copying mmcv\\ops\\csrc\\common\\cuda\\convex_iou_cuda_kernel.cuh -> build\\lib.win-amd64-3.11\\mmcv\\ops\\csrc\\common\\cuda\n",
      "  copying mmcv\\ops\\csrc\\common\\cuda\\correlation_cuda.cuh -> build\\lib.win-amd64-3.11\\mmcv\\ops\\csrc\\common\\cuda\n",
      "  copying mmcv\\ops\\csrc\\common\\cuda\\deform_conv_cuda_kernel.cuh -> build\\lib.win-amd64-3.11\\mmcv\\ops\\csrc\\common\\cuda\n",
      "  copying mmcv\\ops\\csrc\\common\\cuda\\deform_roi_pool_cuda_kernel.cuh -> build\\lib.win-amd64-3.11\\mmcv\\ops\\csrc\\common\\cuda\n",
      "  copying mmcv\\ops\\csrc\\common\\cuda\\diff_iou_rotated_cuda_kernel.cuh -> build\\lib.win-amd64-3.11\\mmcv\\ops\\csrc\\common\\cuda\n",
      "  copying mmcv\\ops\\csrc\\common\\cuda\\furthest_point_sample_cuda_kernel.cuh -> build\\lib.win-amd64-3.11\\mmcv\\ops\\csrc\\common\\cuda\n",
      "  copying mmcv\\ops\\csrc\\common\\cuda\\gather_points_cuda_kernel.cuh -> build\\lib.win-amd64-3.11\\mmcv\\ops\\csrc\\common\\cuda\n",
      "  copying mmcv\\ops\\csrc\\common\\cuda\\group_points_cuda_kernel.cuh -> build\\lib.win-amd64-3.11\\mmcv\\ops\\csrc\\common\\cuda\n",
      "  copying mmcv\\ops\\csrc\\common\\cuda\\iou3d_cuda_kernel.cuh -> build\\lib.win-amd64-3.11\\mmcv\\ops\\csrc\\common\\cuda\n",
      "  copying mmcv\\ops\\csrc\\common\\cuda\\knn_cuda_kernel.cuh -> build\\lib.win-amd64-3.11\\mmcv\\ops\\csrc\\common\\cuda\n",
      "  copying mmcv\\ops\\csrc\\common\\cuda\\masked_conv2d_cuda_kernel.cuh -> build\\lib.win-amd64-3.11\\mmcv\\ops\\csrc\\common\\cuda\n",
      "  copying mmcv\\ops\\csrc\\common\\cuda\\min_area_polygons_cuda.cuh -> build\\lib.win-amd64-3.11\\mmcv\\ops\\csrc\\common\\cuda\n",
      "  copying mmcv\\ops\\csrc\\common\\cuda\\modulated_deform_conv_cuda_kernel.cuh -> build\\lib.win-amd64-3.11\\mmcv\\ops\\csrc\\common\\cuda\n",
      "  copying mmcv\\ops\\csrc\\common\\cuda\\ms_deform_attn_cuda_kernel.cuh -> build\\lib.win-amd64-3.11\\mmcv\\ops\\csrc\\common\\cuda\n",
      "  copying mmcv\\ops\\csrc\\common\\cuda\\nms_cuda_kernel.cuh -> build\\lib.win-amd64-3.11\\mmcv\\ops\\csrc\\common\\cuda\n",
      "  copying mmcv\\ops\\csrc\\common\\cuda\\nms_quadri_cuda.cuh -> build\\lib.win-amd64-3.11\\mmcv\\ops\\csrc\\common\\cuda\n",
      "  copying mmcv\\ops\\csrc\\common\\cuda\\nms_rotated_cuda.cuh -> build\\lib.win-amd64-3.11\\mmcv\\ops\\csrc\\common\\cuda\n",
      "  copying mmcv\\ops\\csrc\\common\\cuda\\parrots_cudawarpfunction.cuh -> build\\lib.win-amd64-3.11\\mmcv\\ops\\csrc\\common\\cuda\n",
      "  copying mmcv\\ops\\csrc\\common\\cuda\\points_in_boxes_cuda_kernel.cuh -> build\\lib.win-amd64-3.11\\mmcv\\ops\\csrc\\common\\cuda\n",
      "  copying mmcv\\ops\\csrc\\common\\cuda\\points_in_polygons_cuda_kernel.cuh -> build\\lib.win-amd64-3.11\\mmcv\\ops\\csrc\\common\\cuda\n",
      "  copying mmcv\\ops\\csrc\\common\\cuda\\prroi_pool_cuda_kernel.cuh -> build\\lib.win-amd64-3.11\\mmcv\\ops\\csrc\\common\\cuda\n",
      "  copying mmcv\\ops\\csrc\\common\\cuda\\psamask_cuda_kernel.cuh -> build\\lib.win-amd64-3.11\\mmcv\\ops\\csrc\\common\\cuda\n",
      "  copying mmcv\\ops\\csrc\\common\\cuda\\riroi_align_rotated_cuda_kernel.cuh -> build\\lib.win-amd64-3.11\\mmcv\\ops\\csrc\\common\\cuda\n",
      "  copying mmcv\\ops\\csrc\\common\\cuda\\roi_align_cuda_kernel.cuh -> build\\lib.win-amd64-3.11\\mmcv\\ops\\csrc\\common\\cuda\n",
      "  copying mmcv\\ops\\csrc\\common\\cuda\\roi_align_rotated_cuda_kernel.cuh -> build\\lib.win-amd64-3.11\\mmcv\\ops\\csrc\\common\\cuda\n",
      "  copying mmcv\\ops\\csrc\\common\\cuda\\roi_pool_cuda_kernel.cuh -> build\\lib.win-amd64-3.11\\mmcv\\ops\\csrc\\common\\cuda\n",
      "  copying mmcv\\ops\\csrc\\common\\cuda\\roiaware_pool3d_cuda_kernel.cuh -> build\\lib.win-amd64-3.11\\mmcv\\ops\\csrc\\common\\cuda\n",
      "  copying mmcv\\ops\\csrc\\common\\cuda\\roipoint_pool3d_cuda_kernel.cuh -> build\\lib.win-amd64-3.11\\mmcv\\ops\\csrc\\common\\cuda\n",
      "  copying mmcv\\ops\\csrc\\common\\cuda\\rotated_feature_align_cuda_kernel.cuh -> build\\lib.win-amd64-3.11\\mmcv\\ops\\csrc\\common\\cuda\n",
      "  copying mmcv\\ops\\csrc\\common\\cuda\\scatter_points_cuda_kernel.cuh -> build\\lib.win-amd64-3.11\\mmcv\\ops\\csrc\\common\\cuda\n",
      "  copying mmcv\\ops\\csrc\\common\\cuda\\sigmoid_focal_loss_cuda_kernel.cuh -> build\\lib.win-amd64-3.11\\mmcv\\ops\\csrc\\common\\cuda\n",
      "  copying mmcv\\ops\\csrc\\common\\cuda\\softmax_focal_loss_cuda_kernel.cuh -> build\\lib.win-amd64-3.11\\mmcv\\ops\\csrc\\common\\cuda\n",
      "  copying mmcv\\ops\\csrc\\common\\cuda\\stack_ball_query_cuda_kernel.cuh -> build\\lib.win-amd64-3.11\\mmcv\\ops\\csrc\\common\\cuda\n",
      "  copying mmcv\\ops\\csrc\\common\\cuda\\stack_group_points_cuda_kernel.cuh -> build\\lib.win-amd64-3.11\\mmcv\\ops\\csrc\\common\\cuda\n",
      "  copying mmcv\\ops\\csrc\\common\\cuda\\sync_bn_cuda_kernel.cuh -> build\\lib.win-amd64-3.11\\mmcv\\ops\\csrc\\common\\cuda\n",
      "  copying mmcv\\ops\\csrc\\common\\cuda\\three_interpolate_cuda_kernel.cuh -> build\\lib.win-amd64-3.11\\mmcv\\ops\\csrc\\common\\cuda\n",
      "  copying mmcv\\ops\\csrc\\common\\cuda\\three_nn_cuda_kernel.cuh -> build\\lib.win-amd64-3.11\\mmcv\\ops\\csrc\\common\\cuda\n",
      "  copying mmcv\\ops\\csrc\\common\\cuda\\tin_shift_cuda_kernel.cuh -> build\\lib.win-amd64-3.11\\mmcv\\ops\\csrc\\common\\cuda\n",
      "  copying mmcv\\ops\\csrc\\common\\cuda\\voxelization_cuda_kernel.cuh -> build\\lib.win-amd64-3.11\\mmcv\\ops\\csrc\\common\\cuda\n",
      "  creating build\\lib.win-amd64-3.11\\mmcv\\ops\\csrc\\common\\cuda\\spconv\n",
      "  copying mmcv\\ops\\csrc\\common\\cuda\\spconv\\indice.cuh -> build\\lib.win-amd64-3.11\\mmcv\\ops\\csrc\\common\\cuda\\spconv\n",
      "  copying mmcv\\ops\\csrc\\common\\cuda\\spconv\\reordering.cuh -> build\\lib.win-amd64-3.11\\mmcv\\ops\\csrc\\common\\cuda\\spconv\n",
      "  creating build\\lib.win-amd64-3.11\\mmcv\\ops\\csrc\\common\\mlu\n",
      "  copying mmcv\\ops\\csrc\\common\\mlu\\carafe_utils.hpp -> build\\lib.win-amd64-3.11\\mmcv\\ops\\csrc\\common\\mlu\n",
      "  copying mmcv\\ops\\csrc\\common\\mlu\\common_mlu_helper.hpp -> build\\lib.win-amd64-3.11\\mmcv\\ops\\csrc\\common\\mlu\n",
      "  copying mmcv\\ops\\csrc\\common\\mlu\\iou3d_utils.hpp -> build\\lib.win-amd64-3.11\\mmcv\\ops\\csrc\\common\\mlu\n",
      "  copying mmcv\\ops\\csrc\\common\\mlu\\nms_utils.hpp -> build\\lib.win-amd64-3.11\\mmcv\\ops\\csrc\\common\\mlu\n",
      "  copying mmcv\\ops\\csrc\\common\\mlu\\psamask_utils.hpp -> build\\lib.win-amd64-3.11\\mmcv\\ops\\csrc\\common\\mlu\n",
      "  copying mmcv\\ops\\csrc\\common\\mlu\\roi_align_rotated_utils.hpp -> build\\lib.win-amd64-3.11\\mmcv\\ops\\csrc\\common\\mlu\n",
      "  creating build\\lib.win-amd64-3.11\\mmcv\\ops\\csrc\\common\\mps\n",
      "  copying mmcv\\ops\\csrc\\common\\mps\\MPSDevice.h -> build\\lib.win-amd64-3.11\\mmcv\\ops\\csrc\\common\\mps\n",
      "  copying mmcv\\ops\\csrc\\common\\mps\\MPSLibrary.h -> build\\lib.win-amd64-3.11\\mmcv\\ops\\csrc\\common\\mps\n",
      "  copying mmcv\\ops\\csrc\\common\\mps\\MPSLibrary.mm -> build\\lib.win-amd64-3.11\\mmcv\\ops\\csrc\\common\\mps\n",
      "  copying mmcv\\ops\\csrc\\common\\mps\\MPSStream.h -> build\\lib.win-amd64-3.11\\mmcv\\ops\\csrc\\common\\mps\n",
      "  copying mmcv\\ops\\csrc\\common\\mps\\MPSUtils.h -> build\\lib.win-amd64-3.11\\mmcv\\ops\\csrc\\common\\mps\n",
      "  creating build\\lib.win-amd64-3.11\\mmcv\\ops\\csrc\\common\\utils\n",
      "  creating build\\lib.win-amd64-3.11\\mmcv\\ops\\csrc\\common\\utils\\spconv\n",
      "  copying mmcv\\ops\\csrc\\common\\utils\\spconv\\paramsgrid.h -> build\\lib.win-amd64-3.11\\mmcv\\ops\\csrc\\common\\utils\\spconv\n",
      "  copying mmcv\\ops\\csrc\\common\\utils\\spconv\\prettyprint.h -> build\\lib.win-amd64-3.11\\mmcv\\ops\\csrc\\common\\utils\\spconv\n",
      "  copying mmcv\\ops\\csrc\\common\\utils\\spconv\\pybind11_utils.h -> build\\lib.win-amd64-3.11\\mmcv\\ops\\csrc\\common\\utils\\spconv\n",
      "  creating build\\lib.win-amd64-3.11\\mmcv\\ops\\csrc\\common\\utils\\spconv\\spconv\n",
      "  copying mmcv\\ops\\csrc\\common\\utils\\spconv\\spconv\\geometry.h -> build\\lib.win-amd64-3.11\\mmcv\\ops\\csrc\\common\\utils\\spconv\\spconv\n",
      "  copying mmcv\\ops\\csrc\\common\\utils\\spconv\\spconv\\indice.h -> build\\lib.win-amd64-3.11\\mmcv\\ops\\csrc\\common\\utils\\spconv\\spconv\n",
      "  copying mmcv\\ops\\csrc\\common\\utils\\spconv\\spconv\\maxpool.h -> build\\lib.win-amd64-3.11\\mmcv\\ops\\csrc\\common\\utils\\spconv\\spconv\n",
      "  copying mmcv\\ops\\csrc\\common\\utils\\spconv\\spconv\\mp_helper.h -> build\\lib.win-amd64-3.11\\mmcv\\ops\\csrc\\common\\utils\\spconv\\spconv\n",
      "  copying mmcv\\ops\\csrc\\common\\utils\\spconv\\spconv\\point2voxel.h -> build\\lib.win-amd64-3.11\\mmcv\\ops\\csrc\\common\\utils\\spconv\\spconv\n",
      "  copying mmcv\\ops\\csrc\\common\\utils\\spconv\\spconv\\reordering.h -> build\\lib.win-amd64-3.11\\mmcv\\ops\\csrc\\common\\utils\\spconv\\spconv\n",
      "  creating build\\lib.win-amd64-3.11\\mmcv\\ops\\csrc\\common\\utils\\spconv\\tensorview\n",
      "  copying mmcv\\ops\\csrc\\common\\utils\\spconv\\tensorview\\helper_kernel.cuh -> build\\lib.win-amd64-3.11\\mmcv\\ops\\csrc\\common\\utils\\spconv\\tensorview\n",
      "  copying mmcv\\ops\\csrc\\common\\utils\\spconv\\tensorview\\helper_launch.h -> build\\lib.win-amd64-3.11\\mmcv\\ops\\csrc\\common\\utils\\spconv\\tensorview\n",
      "  copying mmcv\\ops\\csrc\\common\\utils\\spconv\\tensorview\\tensorview.h -> build\\lib.win-amd64-3.11\\mmcv\\ops\\csrc\\common\\utils\\spconv\\tensorview\n",
      "  creating build\\lib.win-amd64-3.11\\mmcv\\ops\\csrc\\parrots\n",
      "  copying mmcv\\ops\\csrc\\parrots\\active_rotated_filter.cpp -> build\\lib.win-amd64-3.11\\mmcv\\ops\\csrc\\parrots\n",
      "  copying mmcv\\ops\\csrc\\parrots\\active_rotated_filter_parrots.cpp -> build\\lib.win-amd64-3.11\\mmcv\\ops\\csrc\\parrots\n",
      "  copying mmcv\\ops\\csrc\\parrots\\active_rotated_filter_pytorch.h -> build\\lib.win-amd64-3.11\\mmcv\\ops\\csrc\\parrots\n",
      "  copying mmcv\\ops\\csrc\\parrots\\assign_score_withk.cpp -> build\\lib.win-amd64-3.11\\mmcv\\ops\\csrc\\parrots\n",
      "  copying mmcv\\ops\\csrc\\parrots\\assign_score_withk_parrots.cpp -> build\\lib.win-amd64-3.11\\mmcv\\ops\\csrc\\parrots\n",
      "  copying mmcv\\ops\\csrc\\parrots\\assign_score_withk_pytorch.h -> build\\lib.win-amd64-3.11\\mmcv\\ops\\csrc\\parrots\n",
      "  copying mmcv\\ops\\csrc\\parrots\\ball_query._parrots.cpp -> build\\lib.win-amd64-3.11\\mmcv\\ops\\csrc\\parrots\n",
      "  copying mmcv\\ops\\csrc\\parrots\\ball_query.cpp -> build\\lib.win-amd64-3.11\\mmcv\\ops\\csrc\\parrots\n",
      "  copying mmcv\\ops\\csrc\\parrots\\ball_query_pytorch.h -> build\\lib.win-amd64-3.11\\mmcv\\ops\\csrc\\parrots\n",
      "  copying mmcv\\ops\\csrc\\parrots\\bbox_overlaps.cpp -> build\\lib.win-amd64-3.11\\mmcv\\ops\\csrc\\parrots\n",
      "  copying mmcv\\ops\\csrc\\parrots\\bbox_overlaps_parrots.cpp -> build\\lib.win-amd64-3.11\\mmcv\\ops\\csrc\\parrots\n",
      "  copying mmcv\\ops\\csrc\\parrots\\bbox_overlaps_pytorch.h -> build\\lib.win-amd64-3.11\\mmcv\\ops\\csrc\\parrots\n",
      "  copying mmcv\\ops\\csrc\\parrots\\border_align.cpp -> build\\lib.win-amd64-3.11\\mmcv\\ops\\csrc\\parrots\n",
      "  copying mmcv\\ops\\csrc\\parrots\\border_align_parrots.cpp -> build\\lib.win-amd64-3.11\\mmcv\\ops\\csrc\\parrots\n",
      "  copying mmcv\\ops\\csrc\\parrots\\border_align_pytorch.h -> build\\lib.win-amd64-3.11\\mmcv\\ops\\csrc\\parrots\n",
      "  copying mmcv\\ops\\csrc\\parrots\\box_iou_rotated.cpp -> build\\lib.win-amd64-3.11\\mmcv\\ops\\csrc\\parrots\n",
      "  copying mmcv\\ops\\csrc\\parrots\\box_iou_rotated_parrots.cpp -> build\\lib.win-amd64-3.11\\mmcv\\ops\\csrc\\parrots\n",
      "  copying mmcv\\ops\\csrc\\parrots\\box_iou_rotated_pytorch.h -> build\\lib.win-amd64-3.11\\mmcv\\ops\\csrc\\parrots\n",
      "  copying mmcv\\ops\\csrc\\parrots\\carafe.cpp -> build\\lib.win-amd64-3.11\\mmcv\\ops\\csrc\\parrots\n",
      "  copying mmcv\\ops\\csrc\\parrots\\carafe_naive.cpp -> build\\lib.win-amd64-3.11\\mmcv\\ops\\csrc\\parrots\n",
      "  copying mmcv\\ops\\csrc\\parrots\\carafe_naive_parrots.cpp -> build\\lib.win-amd64-3.11\\mmcv\\ops\\csrc\\parrots\n",
      "  copying mmcv\\ops\\csrc\\parrots\\carafe_naive_pytorch.h -> build\\lib.win-amd64-3.11\\mmcv\\ops\\csrc\\parrots\n",
      "  copying mmcv\\ops\\csrc\\parrots\\carafe_parrots.cpp -> build\\lib.win-amd64-3.11\\mmcv\\ops\\csrc\\parrots\n",
      "  copying mmcv\\ops\\csrc\\parrots\\carafe_pytorch.h -> build\\lib.win-amd64-3.11\\mmcv\\ops\\csrc\\parrots\n",
      "  copying mmcv\\ops\\csrc\\parrots\\chamfer_distance.cpp -> build\\lib.win-amd64-3.11\\mmcv\\ops\\csrc\\parrots\n",
      "  copying mmcv\\ops\\csrc\\parrots\\chamfer_distance_parrots.cpp -> build\\lib.win-amd64-3.11\\mmcv\\ops\\csrc\\parrots\n",
      "  copying mmcv\\ops\\csrc\\parrots\\chamfer_distance_pytorch.h -> build\\lib.win-amd64-3.11\\mmcv\\ops\\csrc\\parrots\n",
      "  copying mmcv\\ops\\csrc\\parrots\\contour_expand.cpp -> build\\lib.win-amd64-3.11\\mmcv\\ops\\csrc\\parrots\n",
      "  copying mmcv\\ops\\csrc\\parrots\\contour_expand_parrots.cpp -> build\\lib.win-amd64-3.11\\mmcv\\ops\\csrc\\parrots\n",
      "  copying mmcv\\ops\\csrc\\parrots\\contour_expand_pytorch.h -> build\\lib.win-amd64-3.11\\mmcv\\ops\\csrc\\parrots\n",
      "  copying mmcv\\ops\\csrc\\parrots\\convex_iou.cpp -> build\\lib.win-amd64-3.11\\mmcv\\ops\\csrc\\parrots\n",
      "  copying mmcv\\ops\\csrc\\parrots\\convex_iou_parrots.cpp -> build\\lib.win-amd64-3.11\\mmcv\\ops\\csrc\\parrots\n",
      "  copying mmcv\\ops\\csrc\\parrots\\convex_iou_pytorch.h -> build\\lib.win-amd64-3.11\\mmcv\\ops\\csrc\\parrots\n",
      "  copying mmcv\\ops\\csrc\\parrots\\correlation.cpp -> build\\lib.win-amd64-3.11\\mmcv\\ops\\csrc\\parrots\n",
      "  copying mmcv\\ops\\csrc\\parrots\\correlation_parrots.cpp -> build\\lib.win-amd64-3.11\\mmcv\\ops\\csrc\\parrots\n",
      "  copying mmcv\\ops\\csrc\\parrots\\correlation_pytorch.h -> build\\lib.win-amd64-3.11\\mmcv\\ops\\csrc\\parrots\n",
      "  copying mmcv\\ops\\csrc\\parrots\\cudabind.cpp -> build\\lib.win-amd64-3.11\\mmcv\\ops\\csrc\\parrots\n",
      "  copying mmcv\\ops\\csrc\\parrots\\deform_conv.cpp -> build\\lib.win-amd64-3.11\\mmcv\\ops\\csrc\\parrots\n",
      "  copying mmcv\\ops\\csrc\\parrots\\deform_conv_parrots.cpp -> build\\lib.win-amd64-3.11\\mmcv\\ops\\csrc\\parrots\n",
      "  copying mmcv\\ops\\csrc\\parrots\\deform_conv_pytorch.h -> build\\lib.win-amd64-3.11\\mmcv\\ops\\csrc\\parrots\n",
      "  copying mmcv\\ops\\csrc\\parrots\\deform_roi_pool.cpp -> build\\lib.win-amd64-3.11\\mmcv\\ops\\csrc\\parrots\n",
      "  copying mmcv\\ops\\csrc\\parrots\\deform_roi_pool_parrots.cpp -> build\\lib.win-amd64-3.11\\mmcv\\ops\\csrc\\parrots\n",
      "  copying mmcv\\ops\\csrc\\parrots\\deform_roi_pool_pytorch.h -> build\\lib.win-amd64-3.11\\mmcv\\ops\\csrc\\parrots\n",
      "  copying mmcv\\ops\\csrc\\parrots\\diff_iou_rotated.cpp -> build\\lib.win-amd64-3.11\\mmcv\\ops\\csrc\\parrots\n",
      "  copying mmcv\\ops\\csrc\\parrots\\diff_iou_rotated_parrots.cpp -> build\\lib.win-amd64-3.11\\mmcv\\ops\\csrc\\parrots\n",
      "  copying mmcv\\ops\\csrc\\parrots\\diff_iou_rotated_pytorch.h -> build\\lib.win-amd64-3.11\\mmcv\\ops\\csrc\\parrots\n",
      "  copying mmcv\\ops\\csrc\\parrots\\focal_loss.cpp -> build\\lib.win-amd64-3.11\\mmcv\\ops\\csrc\\parrots\n",
      "  copying mmcv\\ops\\csrc\\parrots\\focal_loss_parrots.cpp -> build\\lib.win-amd64-3.11\\mmcv\\ops\\csrc\\parrots\n",
      "  copying mmcv\\ops\\csrc\\parrots\\focal_loss_pytorch.h -> build\\lib.win-amd64-3.11\\mmcv\\ops\\csrc\\parrots\n",
      "  copying mmcv\\ops\\csrc\\parrots\\furthest_point_sample.cpp -> build\\lib.win-amd64-3.11\\mmcv\\ops\\csrc\\parrots\n",
      "  copying mmcv\\ops\\csrc\\parrots\\furthest_point_sample_parrots.cpp -> build\\lib.win-amd64-3.11\\mmcv\\ops\\csrc\\parrots\n",
      "  copying mmcv\\ops\\csrc\\parrots\\furthest_point_sample_pytorch.h -> build\\lib.win-amd64-3.11\\mmcv\\ops\\csrc\\parrots\n",
      "  copying mmcv\\ops\\csrc\\parrots\\fused_bias_leakyrelu.cpp -> build\\lib.win-amd64-3.11\\mmcv\\ops\\csrc\\parrots\n",
      "  copying mmcv\\ops\\csrc\\parrots\\fused_bias_parrots.cpp -> build\\lib.win-amd64-3.11\\mmcv\\ops\\csrc\\parrots\n",
      "  copying mmcv\\ops\\csrc\\parrots\\gather_points.cpp -> build\\lib.win-amd64-3.11\\mmcv\\ops\\csrc\\parrots\n",
      "  copying mmcv\\ops\\csrc\\parrots\\gather_points_parrots.cpp -> build\\lib.win-amd64-3.11\\mmcv\\ops\\csrc\\parrots\n",
      "  copying mmcv\\ops\\csrc\\parrots\\gather_points_pytorch.h -> build\\lib.win-amd64-3.11\\mmcv\\ops\\csrc\\parrots\n",
      "  copying mmcv\\ops\\csrc\\parrots\\group_points.cpp -> build\\lib.win-amd64-3.11\\mmcv\\ops\\csrc\\parrots\n",
      "  copying mmcv\\ops\\csrc\\parrots\\group_points_parrots.cpp -> build\\lib.win-amd64-3.11\\mmcv\\ops\\csrc\\parrots\n",
      "  copying mmcv\\ops\\csrc\\parrots\\group_points_pytorch.h -> build\\lib.win-amd64-3.11\\mmcv\\ops\\csrc\\parrots\n",
      "  copying mmcv\\ops\\csrc\\parrots\\info.cpp -> build\\lib.win-amd64-3.11\\mmcv\\ops\\csrc\\parrots\n",
      "  copying mmcv\\ops\\csrc\\parrots\\iou3d.cpp -> build\\lib.win-amd64-3.11\\mmcv\\ops\\csrc\\parrots\n",
      "  copying mmcv\\ops\\csrc\\parrots\\iou3d_parrots.cpp -> build\\lib.win-amd64-3.11\\mmcv\\ops\\csrc\\parrots\n",
      "  copying mmcv\\ops\\csrc\\parrots\\iou3d_pytorch.h -> build\\lib.win-amd64-3.11\\mmcv\\ops\\csrc\\parrots\n",
      "  copying mmcv\\ops\\csrc\\parrots\\knn.cpp -> build\\lib.win-amd64-3.11\\mmcv\\ops\\csrc\\parrots\n",
      "  copying mmcv\\ops\\csrc\\parrots\\knn_parrots.cpp -> build\\lib.win-amd64-3.11\\mmcv\\ops\\csrc\\parrots\n",
      "  copying mmcv\\ops\\csrc\\parrots\\knn_pytorch.h -> build\\lib.win-amd64-3.11\\mmcv\\ops\\csrc\\parrots\n",
      "  copying mmcv\\ops\\csrc\\parrots\\masked_conv2d.cpp -> build\\lib.win-amd64-3.11\\mmcv\\ops\\csrc\\parrots\n",
      "  copying mmcv\\ops\\csrc\\parrots\\masked_conv2d_parrots.cpp -> build\\lib.win-amd64-3.11\\mmcv\\ops\\csrc\\parrots\n",
      "  copying mmcv\\ops\\csrc\\parrots\\masked_conv2d_pytorch.h -> build\\lib.win-amd64-3.11\\mmcv\\ops\\csrc\\parrots\n",
      "  copying mmcv\\ops\\csrc\\parrots\\min_area_polygons.cpp -> build\\lib.win-amd64-3.11\\mmcv\\ops\\csrc\\parrots\n",
      "  copying mmcv\\ops\\csrc\\parrots\\min_area_polygons_parrots.cpp -> build\\lib.win-amd64-3.11\\mmcv\\ops\\csrc\\parrots\n",
      "  copying mmcv\\ops\\csrc\\parrots\\min_area_polygons_pytorch.h -> build\\lib.win-amd64-3.11\\mmcv\\ops\\csrc\\parrots\n",
      "  copying mmcv\\ops\\csrc\\parrots\\modulated_deform_conv.cpp -> build\\lib.win-amd64-3.11\\mmcv\\ops\\csrc\\parrots\n",
      "  copying mmcv\\ops\\csrc\\parrots\\modulated_deform_conv_parrots.cpp -> build\\lib.win-amd64-3.11\\mmcv\\ops\\csrc\\parrots\n",
      "  copying mmcv\\ops\\csrc\\parrots\\modulated_deform_conv_pytorch.h -> build\\lib.win-amd64-3.11\\mmcv\\ops\\csrc\\parrots\n",
      "  copying mmcv\\ops\\csrc\\parrots\\ms_deform_attn.cpp -> build\\lib.win-amd64-3.11\\mmcv\\ops\\csrc\\parrots\n",
      "  copying mmcv\\ops\\csrc\\parrots\\ms_deform_attn_parrots.cpp -> build\\lib.win-amd64-3.11\\mmcv\\ops\\csrc\\parrots\n",
      "  copying mmcv\\ops\\csrc\\parrots\\nms.cpp -> build\\lib.win-amd64-3.11\\mmcv\\ops\\csrc\\parrots\n",
      "  copying mmcv\\ops\\csrc\\parrots\\nms_parrots.cpp -> build\\lib.win-amd64-3.11\\mmcv\\ops\\csrc\\parrots\n",
      "  copying mmcv\\ops\\csrc\\parrots\\nms_pytorch.h -> build\\lib.win-amd64-3.11\\mmcv\\ops\\csrc\\parrots\n",
      "  copying mmcv\\ops\\csrc\\parrots\\nms_rotated.cpp -> build\\lib.win-amd64-3.11\\mmcv\\ops\\csrc\\parrots\n",
      "  copying mmcv\\ops\\csrc\\parrots\\pixel_group.cpp -> build\\lib.win-amd64-3.11\\mmcv\\ops\\csrc\\parrots\n",
      "  copying mmcv\\ops\\csrc\\parrots\\pixel_group_parrots.cpp -> build\\lib.win-amd64-3.11\\mmcv\\ops\\csrc\\parrots\n",
      "  copying mmcv\\ops\\csrc\\parrots\\pixel_group_pytorch.h -> build\\lib.win-amd64-3.11\\mmcv\\ops\\csrc\\parrots\n",
      "  copying mmcv\\ops\\csrc\\parrots\\points_in_boxes.cpp -> build\\lib.win-amd64-3.11\\mmcv\\ops\\csrc\\parrots\n",
      "  copying mmcv\\ops\\csrc\\parrots\\points_in_boxes_parrots.cpp -> build\\lib.win-amd64-3.11\\mmcv\\ops\\csrc\\parrots\n",
      "  copying mmcv\\ops\\csrc\\parrots\\points_in_boxes_pytorch.h -> build\\lib.win-amd64-3.11\\mmcv\\ops\\csrc\\parrots\n",
      "  copying mmcv\\ops\\csrc\\parrots\\points_in_polygons.cpp -> build\\lib.win-amd64-3.11\\mmcv\\ops\\csrc\\parrots\n",
      "  copying mmcv\\ops\\csrc\\parrots\\points_in_polygons_parrots.cpp -> build\\lib.win-amd64-3.11\\mmcv\\ops\\csrc\\parrots\n",
      "  copying mmcv\\ops\\csrc\\parrots\\points_in_polygons_pytorch.h -> build\\lib.win-amd64-3.11\\mmcv\\ops\\csrc\\parrots\n",
      "  copying mmcv\\ops\\csrc\\parrots\\prroi_pool.cpp -> build\\lib.win-amd64-3.11\\mmcv\\ops\\csrc\\parrots\n",
      "  copying mmcv\\ops\\csrc\\parrots\\prroi_pool_parrots.cpp -> build\\lib.win-amd64-3.11\\mmcv\\ops\\csrc\\parrots\n",
      "  copying mmcv\\ops\\csrc\\parrots\\prroi_pool_pytorch.h -> build\\lib.win-amd64-3.11\\mmcv\\ops\\csrc\\parrots\n",
      "  copying mmcv\\ops\\csrc\\parrots\\psamask.cpp -> build\\lib.win-amd64-3.11\\mmcv\\ops\\csrc\\parrots\n",
      "  copying mmcv\\ops\\csrc\\parrots\\psamask_parrots.cpp -> build\\lib.win-amd64-3.11\\mmcv\\ops\\csrc\\parrots\n",
      "  copying mmcv\\ops\\csrc\\parrots\\psamask_pytorch.h -> build\\lib.win-amd64-3.11\\mmcv\\ops\\csrc\\parrots\n",
      "  copying mmcv\\ops\\csrc\\parrots\\riroi_align_rotated.cpp -> build\\lib.win-amd64-3.11\\mmcv\\ops\\csrc\\parrots\n",
      "  copying mmcv\\ops\\csrc\\parrots\\riroi_align_rotated_parrots.cpp -> build\\lib.win-amd64-3.11\\mmcv\\ops\\csrc\\parrots\n",
      "  copying mmcv\\ops\\csrc\\parrots\\riroi_align_rotated_pytorch.h -> build\\lib.win-amd64-3.11\\mmcv\\ops\\csrc\\parrots\n",
      "  copying mmcv\\ops\\csrc\\parrots\\roi_align.cpp -> build\\lib.win-amd64-3.11\\mmcv\\ops\\csrc\\parrots\n",
      "  copying mmcv\\ops\\csrc\\parrots\\roi_align_parrots.cpp -> build\\lib.win-amd64-3.11\\mmcv\\ops\\csrc\\parrots\n",
      "  copying mmcv\\ops\\csrc\\parrots\\roi_align_pytorch.h -> build\\lib.win-amd64-3.11\\mmcv\\ops\\csrc\\parrots\n",
      "  copying mmcv\\ops\\csrc\\parrots\\roi_align_rotated.cpp -> build\\lib.win-amd64-3.11\\mmcv\\ops\\csrc\\parrots\n",
      "  copying mmcv\\ops\\csrc\\parrots\\roi_align_rotated_parrots.cpp -> build\\lib.win-amd64-3.11\\mmcv\\ops\\csrc\\parrots\n",
      "  copying mmcv\\ops\\csrc\\parrots\\roi_align_rotated_pytorch.h -> build\\lib.win-amd64-3.11\\mmcv\\ops\\csrc\\parrots\n",
      "  copying mmcv\\ops\\csrc\\parrots\\roi_pool.cpp -> build\\lib.win-amd64-3.11\\mmcv\\ops\\csrc\\parrots\n",
      "  copying mmcv\\ops\\csrc\\parrots\\roi_pool_parrots.cpp -> build\\lib.win-amd64-3.11\\mmcv\\ops\\csrc\\parrots\n",
      "  copying mmcv\\ops\\csrc\\parrots\\roi_pool_pytorch.h -> build\\lib.win-amd64-3.11\\mmcv\\ops\\csrc\\parrots\n",
      "  copying mmcv\\ops\\csrc\\parrots\\roiaware_pool3d.cpp -> build\\lib.win-amd64-3.11\\mmcv\\ops\\csrc\\parrots\n",
      "  copying mmcv\\ops\\csrc\\parrots\\roiaware_pool3d_parrots.cpp -> build\\lib.win-amd64-3.11\\mmcv\\ops\\csrc\\parrots\n",
      "  copying mmcv\\ops\\csrc\\parrots\\roiaware_pool3d_pytorch.h -> build\\lib.win-amd64-3.11\\mmcv\\ops\\csrc\\parrots\n",
      "  copying mmcv\\ops\\csrc\\parrots\\roipoint_pool3d.cpp -> build\\lib.win-amd64-3.11\\mmcv\\ops\\csrc\\parrots\n",
      "  copying mmcv\\ops\\csrc\\parrots\\roipoint_pool3d_parrots.cpp -> build\\lib.win-amd64-3.11\\mmcv\\ops\\csrc\\parrots\n",
      "  copying mmcv\\ops\\csrc\\parrots\\roipoint_pool3d_pytorch.h -> build\\lib.win-amd64-3.11\\mmcv\\ops\\csrc\\parrots\n",
      "  copying mmcv\\ops\\csrc\\parrots\\rotated_feature_align.cpp -> build\\lib.win-amd64-3.11\\mmcv\\ops\\csrc\\parrots\n",
      "  copying mmcv\\ops\\csrc\\parrots\\rotated_feature_align_parrots.cpp -> build\\lib.win-amd64-3.11\\mmcv\\ops\\csrc\\parrots\n",
      "  copying mmcv\\ops\\csrc\\parrots\\rotated_feature_align_pytorch.h -> build\\lib.win-amd64-3.11\\mmcv\\ops\\csrc\\parrots\n",
      "  copying mmcv\\ops\\csrc\\parrots\\sync_bn.cpp -> build\\lib.win-amd64-3.11\\mmcv\\ops\\csrc\\parrots\n",
      "  copying mmcv\\ops\\csrc\\parrots\\sync_bn_parrots.cpp -> build\\lib.win-amd64-3.11\\mmcv\\ops\\csrc\\parrots\n",
      "  copying mmcv\\ops\\csrc\\parrots\\sync_bn_pytorch.h -> build\\lib.win-amd64-3.11\\mmcv\\ops\\csrc\\parrots\n",
      "  copying mmcv\\ops\\csrc\\parrots\\three_interpolate.cpp -> build\\lib.win-amd64-3.11\\mmcv\\ops\\csrc\\parrots\n",
      "  copying mmcv\\ops\\csrc\\parrots\\three_interpolate_parrots.cpp -> build\\lib.win-amd64-3.11\\mmcv\\ops\\csrc\\parrots\n",
      "  copying mmcv\\ops\\csrc\\parrots\\three_interpolate_pytorch.h -> build\\lib.win-amd64-3.11\\mmcv\\ops\\csrc\\parrots\n",
      "  copying mmcv\\ops\\csrc\\parrots\\three_nn.cpp -> build\\lib.win-amd64-3.11\\mmcv\\ops\\csrc\\parrots\n",
      "  copying mmcv\\ops\\csrc\\parrots\\three_nn_parrots.cpp -> build\\lib.win-amd64-3.11\\mmcv\\ops\\csrc\\parrots\n",
      "  copying mmcv\\ops\\csrc\\parrots\\three_nn_pytorch.h -> build\\lib.win-amd64-3.11\\mmcv\\ops\\csrc\\parrots\n",
      "  copying mmcv\\ops\\csrc\\parrots\\tin_shift.cpp -> build\\lib.win-amd64-3.11\\mmcv\\ops\\csrc\\parrots\n",
      "  copying mmcv\\ops\\csrc\\parrots\\tin_shift_parrots.cpp -> build\\lib.win-amd64-3.11\\mmcv\\ops\\csrc\\parrots\n",
      "  copying mmcv\\ops\\csrc\\parrots\\tin_shift_pytorch.h -> build\\lib.win-amd64-3.11\\mmcv\\ops\\csrc\\parrots\n",
      "  copying mmcv\\ops\\csrc\\parrots\\upfirdn2d.cpp -> build\\lib.win-amd64-3.11\\mmcv\\ops\\csrc\\parrots\n",
      "  copying mmcv\\ops\\csrc\\parrots\\upfirdn2d_parrots.cpp -> build\\lib.win-amd64-3.11\\mmcv\\ops\\csrc\\parrots\n",
      "  copying mmcv\\ops\\csrc\\parrots\\voxelization.cpp -> build\\lib.win-amd64-3.11\\mmcv\\ops\\csrc\\parrots\n",
      "  copying mmcv\\ops\\csrc\\parrots\\voxelization_parrots.cpp -> build\\lib.win-amd64-3.11\\mmcv\\ops\\csrc\\parrots\n",
      "  copying mmcv\\ops\\csrc\\parrots\\voxelization_pytorch.h -> build\\lib.win-amd64-3.11\\mmcv\\ops\\csrc\\parrots\n",
      "  creating build\\lib.win-amd64-3.11\\mmcv\\ops\\csrc\\pytorch\n",
      "  copying mmcv\\ops\\csrc\\pytorch\\active_rotated_filter.cpp -> build\\lib.win-amd64-3.11\\mmcv\\ops\\csrc\\pytorch\n",
      "  copying mmcv\\ops\\csrc\\pytorch\\assign_score_withk.cpp -> build\\lib.win-amd64-3.11\\mmcv\\ops\\csrc\\pytorch\n",
      "  copying mmcv\\ops\\csrc\\pytorch\\ball_query.cpp -> build\\lib.win-amd64-3.11\\mmcv\\ops\\csrc\\pytorch\n",
      "  copying mmcv\\ops\\csrc\\pytorch\\bbox_overlaps.cpp -> build\\lib.win-amd64-3.11\\mmcv\\ops\\csrc\\pytorch\n",
      "  copying mmcv\\ops\\csrc\\pytorch\\bezier_align.cpp -> build\\lib.win-amd64-3.11\\mmcv\\ops\\csrc\\pytorch\n",
      "  copying mmcv\\ops\\csrc\\pytorch\\bias_act.cpp -> build\\lib.win-amd64-3.11\\mmcv\\ops\\csrc\\pytorch\n",
      "  copying mmcv\\ops\\csrc\\pytorch\\border_align.cpp -> build\\lib.win-amd64-3.11\\mmcv\\ops\\csrc\\pytorch\n",
      "  copying mmcv\\ops\\csrc\\pytorch\\box_iou_quadri.cpp -> build\\lib.win-amd64-3.11\\mmcv\\ops\\csrc\\pytorch\n",
      "  copying mmcv\\ops\\csrc\\pytorch\\box_iou_rotated.cpp -> build\\lib.win-amd64-3.11\\mmcv\\ops\\csrc\\pytorch\n",
      "  copying mmcv\\ops\\csrc\\pytorch\\carafe.cpp -> build\\lib.win-amd64-3.11\\mmcv\\ops\\csrc\\pytorch\n",
      "  copying mmcv\\ops\\csrc\\pytorch\\carafe_naive.cpp -> build\\lib.win-amd64-3.11\\mmcv\\ops\\csrc\\pytorch\n",
      "  copying mmcv\\ops\\csrc\\pytorch\\chamfer_distance.cpp -> build\\lib.win-amd64-3.11\\mmcv\\ops\\csrc\\pytorch\n",
      "  copying mmcv\\ops\\csrc\\pytorch\\contour_expand.cpp -> build\\lib.win-amd64-3.11\\mmcv\\ops\\csrc\\pytorch\n",
      "  copying mmcv\\ops\\csrc\\pytorch\\convex_iou.cpp -> build\\lib.win-amd64-3.11\\mmcv\\ops\\csrc\\pytorch\n",
      "  copying mmcv\\ops\\csrc\\pytorch\\correlation.cpp -> build\\lib.win-amd64-3.11\\mmcv\\ops\\csrc\\pytorch\n",
      "  copying mmcv\\ops\\csrc\\pytorch\\deform_conv.cpp -> build\\lib.win-amd64-3.11\\mmcv\\ops\\csrc\\pytorch\n",
      "  copying mmcv\\ops\\csrc\\pytorch\\deform_roi_pool.cpp -> build\\lib.win-amd64-3.11\\mmcv\\ops\\csrc\\pytorch\n",
      "  copying mmcv\\ops\\csrc\\pytorch\\diff_iou_rotated.cpp -> build\\lib.win-amd64-3.11\\mmcv\\ops\\csrc\\pytorch\n",
      "  copying mmcv\\ops\\csrc\\pytorch\\filtered_lrelu.cpp -> build\\lib.win-amd64-3.11\\mmcv\\ops\\csrc\\pytorch\n",
      "  copying mmcv\\ops\\csrc\\pytorch\\focal_loss.cpp -> build\\lib.win-amd64-3.11\\mmcv\\ops\\csrc\\pytorch\n",
      "  copying mmcv\\ops\\csrc\\pytorch\\furthest_point_sample.cpp -> build\\lib.win-amd64-3.11\\mmcv\\ops\\csrc\\pytorch\n",
      "  copying mmcv\\ops\\csrc\\pytorch\\fused_bias_leakyrelu.cpp -> build\\lib.win-amd64-3.11\\mmcv\\ops\\csrc\\pytorch\n",
      "  copying mmcv\\ops\\csrc\\pytorch\\fused_spconv_ops.cpp -> build\\lib.win-amd64-3.11\\mmcv\\ops\\csrc\\pytorch\n",
      "  copying mmcv\\ops\\csrc\\pytorch\\gather_points.cpp -> build\\lib.win-amd64-3.11\\mmcv\\ops\\csrc\\pytorch\n",
      "  copying mmcv\\ops\\csrc\\pytorch\\group_points.cpp -> build\\lib.win-amd64-3.11\\mmcv\\ops\\csrc\\pytorch\n",
      "  copying mmcv\\ops\\csrc\\pytorch\\info.cpp -> build\\lib.win-amd64-3.11\\mmcv\\ops\\csrc\\pytorch\n",
      "  copying mmcv\\ops\\csrc\\pytorch\\iou3d.cpp -> build\\lib.win-amd64-3.11\\mmcv\\ops\\csrc\\pytorch\n",
      "  copying mmcv\\ops\\csrc\\pytorch\\knn.cpp -> build\\lib.win-amd64-3.11\\mmcv\\ops\\csrc\\pytorch\n",
      "  copying mmcv\\ops\\csrc\\pytorch\\masked_conv2d.cpp -> build\\lib.win-amd64-3.11\\mmcv\\ops\\csrc\\pytorch\n",
      "  copying mmcv\\ops\\csrc\\pytorch\\min_area_polygons.cpp -> build\\lib.win-amd64-3.11\\mmcv\\ops\\csrc\\pytorch\n",
      "  copying mmcv\\ops\\csrc\\pytorch\\modulated_deform_conv.cpp -> build\\lib.win-amd64-3.11\\mmcv\\ops\\csrc\\pytorch\n",
      "  copying mmcv\\ops\\csrc\\pytorch\\ms_deform_attn.cpp -> build\\lib.win-amd64-3.11\\mmcv\\ops\\csrc\\pytorch\n",
      "  copying mmcv\\ops\\csrc\\pytorch\\nms.cpp -> build\\lib.win-amd64-3.11\\mmcv\\ops\\csrc\\pytorch\n",
      "  copying mmcv\\ops\\csrc\\pytorch\\nms_quadri.cpp -> build\\lib.win-amd64-3.11\\mmcv\\ops\\csrc\\pytorch\n",
      "  copying mmcv\\ops\\csrc\\pytorch\\nms_rotated.cpp -> build\\lib.win-amd64-3.11\\mmcv\\ops\\csrc\\pytorch\n",
      "  copying mmcv\\ops\\csrc\\pytorch\\pixel_group.cpp -> build\\lib.win-amd64-3.11\\mmcv\\ops\\csrc\\pytorch\n",
      "  copying mmcv\\ops\\csrc\\pytorch\\points_in_boxes.cpp -> build\\lib.win-amd64-3.11\\mmcv\\ops\\csrc\\pytorch\n",
      "  copying mmcv\\ops\\csrc\\pytorch\\points_in_polygons.cpp -> build\\lib.win-amd64-3.11\\mmcv\\ops\\csrc\\pytorch\n",
      "  copying mmcv\\ops\\csrc\\pytorch\\prroi_pool.cpp -> build\\lib.win-amd64-3.11\\mmcv\\ops\\csrc\\pytorch\n",
      "  copying mmcv\\ops\\csrc\\pytorch\\psamask.cpp -> build\\lib.win-amd64-3.11\\mmcv\\ops\\csrc\\pytorch\n",
      "  copying mmcv\\ops\\csrc\\pytorch\\pybind.cpp -> build\\lib.win-amd64-3.11\\mmcv\\ops\\csrc\\pytorch\n",
      "  copying mmcv\\ops\\csrc\\pytorch\\riroi_align_rotated.cpp -> build\\lib.win-amd64-3.11\\mmcv\\ops\\csrc\\pytorch\n",
      "  copying mmcv\\ops\\csrc\\pytorch\\roi_align.cpp -> build\\lib.win-amd64-3.11\\mmcv\\ops\\csrc\\pytorch\n",
      "  copying mmcv\\ops\\csrc\\pytorch\\roi_align_rotated.cpp -> build\\lib.win-amd64-3.11\\mmcv\\ops\\csrc\\pytorch\n",
      "  copying mmcv\\ops\\csrc\\pytorch\\roi_pool.cpp -> build\\lib.win-amd64-3.11\\mmcv\\ops\\csrc\\pytorch\n",
      "  copying mmcv\\ops\\csrc\\pytorch\\roiaware_pool3d.cpp -> build\\lib.win-amd64-3.11\\mmcv\\ops\\csrc\\pytorch\n",
      "  copying mmcv\\ops\\csrc\\pytorch\\roipoint_pool3d.cpp -> build\\lib.win-amd64-3.11\\mmcv\\ops\\csrc\\pytorch\n",
      "  copying mmcv\\ops\\csrc\\pytorch\\rotated_feature_align.cpp -> build\\lib.win-amd64-3.11\\mmcv\\ops\\csrc\\pytorch\n",
      "  copying mmcv\\ops\\csrc\\pytorch\\scatter_points.cpp -> build\\lib.win-amd64-3.11\\mmcv\\ops\\csrc\\pytorch\n",
      "  copying mmcv\\ops\\csrc\\pytorch\\sparse_pool_ops.cpp -> build\\lib.win-amd64-3.11\\mmcv\\ops\\csrc\\pytorch\n",
      "  copying mmcv\\ops\\csrc\\pytorch\\spconv_ops.cpp -> build\\lib.win-amd64-3.11\\mmcv\\ops\\csrc\\pytorch\n",
      "  copying mmcv\\ops\\csrc\\pytorch\\spconv_utils.h -> build\\lib.win-amd64-3.11\\mmcv\\ops\\csrc\\pytorch\n",
      "  copying mmcv\\ops\\csrc\\pytorch\\sync_bn.cpp -> build\\lib.win-amd64-3.11\\mmcv\\ops\\csrc\\pytorch\n",
      "  copying mmcv\\ops\\csrc\\pytorch\\three_interpolate.cpp -> build\\lib.win-amd64-3.11\\mmcv\\ops\\csrc\\pytorch\n",
      "  copying mmcv\\ops\\csrc\\pytorch\\three_nn.cpp -> build\\lib.win-amd64-3.11\\mmcv\\ops\\csrc\\pytorch\n",
      "  copying mmcv\\ops\\csrc\\pytorch\\tin_shift.cpp -> build\\lib.win-amd64-3.11\\mmcv\\ops\\csrc\\pytorch\n",
      "  copying mmcv\\ops\\csrc\\pytorch\\upfirdn2d.cpp -> build\\lib.win-amd64-3.11\\mmcv\\ops\\csrc\\pytorch\n",
      "  copying mmcv\\ops\\csrc\\pytorch\\voxelization.cpp -> build\\lib.win-amd64-3.11\\mmcv\\ops\\csrc\\pytorch\n",
      "  creating build\\lib.win-amd64-3.11\\mmcv\\ops\\csrc\\pytorch\\cpu\n",
      "  copying mmcv\\ops\\csrc\\pytorch\\cpu\\active_rotated_filter.cpp -> build\\lib.win-amd64-3.11\\mmcv\\ops\\csrc\\pytorch\\cpu\n",
      "  copying mmcv\\ops\\csrc\\pytorch\\cpu\\bbox_overlaps_cpu.cpp -> build\\lib.win-amd64-3.11\\mmcv\\ops\\csrc\\pytorch\\cpu\n",
      "  copying mmcv\\ops\\csrc\\pytorch\\cpu\\bezier_align.cpp -> build\\lib.win-amd64-3.11\\mmcv\\ops\\csrc\\pytorch\\cpu\n",
      "  copying mmcv\\ops\\csrc\\pytorch\\cpu\\box_iou_quadri.cpp -> build\\lib.win-amd64-3.11\\mmcv\\ops\\csrc\\pytorch\\cpu\n",
      "  copying mmcv\\ops\\csrc\\pytorch\\cpu\\box_iou_rotated.cpp -> build\\lib.win-amd64-3.11\\mmcv\\ops\\csrc\\pytorch\\cpu\n",
      "  copying mmcv\\ops\\csrc\\pytorch\\cpu\\deform_conv.cpp -> build\\lib.win-amd64-3.11\\mmcv\\ops\\csrc\\pytorch\\cpu\n",
      "  copying mmcv\\ops\\csrc\\pytorch\\cpu\\modulated_deform_conv.cpp -> build\\lib.win-amd64-3.11\\mmcv\\ops\\csrc\\pytorch\\cpu\n",
      "  copying mmcv\\ops\\csrc\\pytorch\\cpu\\nms.cpp -> build\\lib.win-amd64-3.11\\mmcv\\ops\\csrc\\pytorch\\cpu\n",
      "  copying mmcv\\ops\\csrc\\pytorch\\cpu\\nms_quadri.cpp -> build\\lib.win-amd64-3.11\\mmcv\\ops\\csrc\\pytorch\\cpu\n",
      "  copying mmcv\\ops\\csrc\\pytorch\\cpu\\nms_rotated.cpp -> build\\lib.win-amd64-3.11\\mmcv\\ops\\csrc\\pytorch\\cpu\n",
      "  copying mmcv\\ops\\csrc\\pytorch\\cpu\\pixel_group.cpp -> build\\lib.win-amd64-3.11\\mmcv\\ops\\csrc\\pytorch\\cpu\n",
      "  copying mmcv\\ops\\csrc\\pytorch\\cpu\\points_in_boxes.cpp -> build\\lib.win-amd64-3.11\\mmcv\\ops\\csrc\\pytorch\\cpu\n",
      "  copying mmcv\\ops\\csrc\\pytorch\\cpu\\psamask.cpp -> build\\lib.win-amd64-3.11\\mmcv\\ops\\csrc\\pytorch\\cpu\n",
      "  copying mmcv\\ops\\csrc\\pytorch\\cpu\\roi_align.cpp -> build\\lib.win-amd64-3.11\\mmcv\\ops\\csrc\\pytorch\\cpu\n",
      "  copying mmcv\\ops\\csrc\\pytorch\\cpu\\roi_align_rotated.cpp -> build\\lib.win-amd64-3.11\\mmcv\\ops\\csrc\\pytorch\\cpu\n",
      "  copying mmcv\\ops\\csrc\\pytorch\\cpu\\rotated_feature_align.cpp -> build\\lib.win-amd64-3.11\\mmcv\\ops\\csrc\\pytorch\\cpu\n",
      "  copying mmcv\\ops\\csrc\\pytorch\\cpu\\sparse_indice.cpp -> build\\lib.win-amd64-3.11\\mmcv\\ops\\csrc\\pytorch\\cpu\n",
      "  copying mmcv\\ops\\csrc\\pytorch\\cpu\\sparse_maxpool.cpp -> build\\lib.win-amd64-3.11\\mmcv\\ops\\csrc\\pytorch\\cpu\n",
      "  copying mmcv\\ops\\csrc\\pytorch\\cpu\\sparse_reordering.cpp -> build\\lib.win-amd64-3.11\\mmcv\\ops\\csrc\\pytorch\\cpu\n",
      "  copying mmcv\\ops\\csrc\\pytorch\\cpu\\voxelization.cpp -> build\\lib.win-amd64-3.11\\mmcv\\ops\\csrc\\pytorch\\cpu\n",
      "  creating build\\lib.win-amd64-3.11\\mmcv\\ops\\csrc\\pytorch\\cuda\n",
      "  copying mmcv\\ops\\csrc\\pytorch\\cuda\\active_rotated_filter_cuda.cu -> build\\lib.win-amd64-3.11\\mmcv\\ops\\csrc\\pytorch\\cuda\n",
      "  copying mmcv\\ops\\csrc\\pytorch\\cuda\\assign_score_withk_cuda.cu -> build\\lib.win-amd64-3.11\\mmcv\\ops\\csrc\\pytorch\\cuda\n",
      "  copying mmcv\\ops\\csrc\\pytorch\\cuda\\ball_query_cuda.cu -> build\\lib.win-amd64-3.11\\mmcv\\ops\\csrc\\pytorch\\cuda\n",
      "  copying mmcv\\ops\\csrc\\pytorch\\cuda\\bbox_overlaps_cuda.cu -> build\\lib.win-amd64-3.11\\mmcv\\ops\\csrc\\pytorch\\cuda\n",
      "  copying mmcv\\ops\\csrc\\pytorch\\cuda\\bezier_align_cuda.cu -> build\\lib.win-amd64-3.11\\mmcv\\ops\\csrc\\pytorch\\cuda\n",
      "  copying mmcv\\ops\\csrc\\pytorch\\cuda\\bias_act_cuda.cu -> build\\lib.win-amd64-3.11\\mmcv\\ops\\csrc\\pytorch\\cuda\n",
      "  copying mmcv\\ops\\csrc\\pytorch\\cuda\\border_align_cuda.cu -> build\\lib.win-amd64-3.11\\mmcv\\ops\\csrc\\pytorch\\cuda\n",
      "  copying mmcv\\ops\\csrc\\pytorch\\cuda\\box_iou_quadri_cuda.cu -> build\\lib.win-amd64-3.11\\mmcv\\ops\\csrc\\pytorch\\cuda\n",
      "  copying mmcv\\ops\\csrc\\pytorch\\cuda\\box_iou_rotated_cuda.cu -> build\\lib.win-amd64-3.11\\mmcv\\ops\\csrc\\pytorch\\cuda\n",
      "  copying mmcv\\ops\\csrc\\pytorch\\cuda\\carafe_cuda.cu -> build\\lib.win-amd64-3.11\\mmcv\\ops\\csrc\\pytorch\\cuda\n",
      "  copying mmcv\\ops\\csrc\\pytorch\\cuda\\carafe_naive_cuda.cu -> build\\lib.win-amd64-3.11\\mmcv\\ops\\csrc\\pytorch\\cuda\n",
      "  copying mmcv\\ops\\csrc\\pytorch\\cuda\\chamfer_distance_cuda.cu -> build\\lib.win-amd64-3.11\\mmcv\\ops\\csrc\\pytorch\\cuda\n",
      "  copying mmcv\\ops\\csrc\\pytorch\\cuda\\convex_iou.cu -> build\\lib.win-amd64-3.11\\mmcv\\ops\\csrc\\pytorch\\cuda\n",
      "  copying mmcv\\ops\\csrc\\pytorch\\cuda\\correlation_cuda.cu -> build\\lib.win-amd64-3.11\\mmcv\\ops\\csrc\\pytorch\\cuda\n",
      "  copying mmcv\\ops\\csrc\\pytorch\\cuda\\cudabind.cpp -> build\\lib.win-amd64-3.11\\mmcv\\ops\\csrc\\pytorch\\cuda\n",
      "  copying mmcv\\ops\\csrc\\pytorch\\cuda\\deform_conv_cuda.cu -> build\\lib.win-amd64-3.11\\mmcv\\ops\\csrc\\pytorch\\cuda\n",
      "  copying mmcv\\ops\\csrc\\pytorch\\cuda\\deform_roi_pool_cuda.cu -> build\\lib.win-amd64-3.11\\mmcv\\ops\\csrc\\pytorch\\cuda\n",
      "  copying mmcv\\ops\\csrc\\pytorch\\cuda\\diff_iou_rotated_cuda.cu -> build\\lib.win-amd64-3.11\\mmcv\\ops\\csrc\\pytorch\\cuda\n",
      "  copying mmcv\\ops\\csrc\\pytorch\\cuda\\filtered_lrelu.cu -> build\\lib.win-amd64-3.11\\mmcv\\ops\\csrc\\pytorch\\cuda\n",
      "  copying mmcv\\ops\\csrc\\pytorch\\cuda\\focal_loss_cuda.cu -> build\\lib.win-amd64-3.11\\mmcv\\ops\\csrc\\pytorch\\cuda\n",
      "  copying mmcv\\ops\\csrc\\pytorch\\cuda\\furthest_point_sample_cuda.cu -> build\\lib.win-amd64-3.11\\mmcv\\ops\\csrc\\pytorch\\cuda\n",
      "  copying mmcv\\ops\\csrc\\pytorch\\cuda\\fused_bias_leakyrelu_cuda.cu -> build\\lib.win-amd64-3.11\\mmcv\\ops\\csrc\\pytorch\\cuda\n",
      "  copying mmcv\\ops\\csrc\\pytorch\\cuda\\fused_spconv_ops_cuda.cu -> build\\lib.win-amd64-3.11\\mmcv\\ops\\csrc\\pytorch\\cuda\n",
      "  copying mmcv\\ops\\csrc\\pytorch\\cuda\\gather_points_cuda.cu -> build\\lib.win-amd64-3.11\\mmcv\\ops\\csrc\\pytorch\\cuda\n",
      "  copying mmcv\\ops\\csrc\\pytorch\\cuda\\group_points_cuda.cu -> build\\lib.win-amd64-3.11\\mmcv\\ops\\csrc\\pytorch\\cuda\n",
      "  copying mmcv\\ops\\csrc\\pytorch\\cuda\\iou3d_cuda.cu -> build\\lib.win-amd64-3.11\\mmcv\\ops\\csrc\\pytorch\\cuda\n",
      "  copying mmcv\\ops\\csrc\\pytorch\\cuda\\knn_cuda.cu -> build\\lib.win-amd64-3.11\\mmcv\\ops\\csrc\\pytorch\\cuda\n",
      "  copying mmcv\\ops\\csrc\\pytorch\\cuda\\masked_conv2d_cuda.cu -> build\\lib.win-amd64-3.11\\mmcv\\ops\\csrc\\pytorch\\cuda\n",
      "  copying mmcv\\ops\\csrc\\pytorch\\cuda\\min_area_polygons.cu -> build\\lib.win-amd64-3.11\\mmcv\\ops\\csrc\\pytorch\\cuda\n",
      "  copying mmcv\\ops\\csrc\\pytorch\\cuda\\modulated_deform_conv_cuda.cu -> build\\lib.win-amd64-3.11\\mmcv\\ops\\csrc\\pytorch\\cuda\n",
      "  copying mmcv\\ops\\csrc\\pytorch\\cuda\\ms_deform_attn_cuda.cu -> build\\lib.win-amd64-3.11\\mmcv\\ops\\csrc\\pytorch\\cuda\n",
      "  copying mmcv\\ops\\csrc\\pytorch\\cuda\\nms_cuda.cu -> build\\lib.win-amd64-3.11\\mmcv\\ops\\csrc\\pytorch\\cuda\n",
      "  copying mmcv\\ops\\csrc\\pytorch\\cuda\\nms_quadri_cuda.cu -> build\\lib.win-amd64-3.11\\mmcv\\ops\\csrc\\pytorch\\cuda\n",
      "  copying mmcv\\ops\\csrc\\pytorch\\cuda\\nms_rotated_cuda.cu -> build\\lib.win-amd64-3.11\\mmcv\\ops\\csrc\\pytorch\\cuda\n",
      "  copying mmcv\\ops\\csrc\\pytorch\\cuda\\points_in_boxes_cuda.cu -> build\\lib.win-amd64-3.11\\mmcv\\ops\\csrc\\pytorch\\cuda\n",
      "  copying mmcv\\ops\\csrc\\pytorch\\cuda\\points_in_polygons_cuda.cu -> build\\lib.win-amd64-3.11\\mmcv\\ops\\csrc\\pytorch\\cuda\n",
      "  copying mmcv\\ops\\csrc\\pytorch\\cuda\\prroi_pool_cuda.cu -> build\\lib.win-amd64-3.11\\mmcv\\ops\\csrc\\pytorch\\cuda\n",
      "  copying mmcv\\ops\\csrc\\pytorch\\cuda\\psamask_cuda.cu -> build\\lib.win-amd64-3.11\\mmcv\\ops\\csrc\\pytorch\\cuda\n",
      "  copying mmcv\\ops\\csrc\\pytorch\\cuda\\riroi_align_rotated_cuda.cu -> build\\lib.win-amd64-3.11\\mmcv\\ops\\csrc\\pytorch\\cuda\n",
      "  copying mmcv\\ops\\csrc\\pytorch\\cuda\\roi_align_cuda.cu -> build\\lib.win-amd64-3.11\\mmcv\\ops\\csrc\\pytorch\\cuda\n",
      "  copying mmcv\\ops\\csrc\\pytorch\\cuda\\roi_align_rotated_cuda.cu -> build\\lib.win-amd64-3.11\\mmcv\\ops\\csrc\\pytorch\\cuda\n",
      "  copying mmcv\\ops\\csrc\\pytorch\\cuda\\roi_pool_cuda.cu -> build\\lib.win-amd64-3.11\\mmcv\\ops\\csrc\\pytorch\\cuda\n",
      "  copying mmcv\\ops\\csrc\\pytorch\\cuda\\roiaware_pool3d_cuda.cu -> build\\lib.win-amd64-3.11\\mmcv\\ops\\csrc\\pytorch\\cuda\n",
      "  copying mmcv\\ops\\csrc\\pytorch\\cuda\\roipoint_pool3d_cuda.cu -> build\\lib.win-amd64-3.11\\mmcv\\ops\\csrc\\pytorch\\cuda\n",
      "  copying mmcv\\ops\\csrc\\pytorch\\cuda\\rotated_feature_align_cuda.cu -> build\\lib.win-amd64-3.11\\mmcv\\ops\\csrc\\pytorch\\cuda\n",
      "  copying mmcv\\ops\\csrc\\pytorch\\cuda\\scatter_points_cuda.cu -> build\\lib.win-amd64-3.11\\mmcv\\ops\\csrc\\pytorch\\cuda\n",
      "  copying mmcv\\ops\\csrc\\pytorch\\cuda\\sparse_indice.cu -> build\\lib.win-amd64-3.11\\mmcv\\ops\\csrc\\pytorch\\cuda\n",
      "  copying mmcv\\ops\\csrc\\pytorch\\cuda\\sparse_maxpool.cu -> build\\lib.win-amd64-3.11\\mmcv\\ops\\csrc\\pytorch\\cuda\n",
      "  copying mmcv\\ops\\csrc\\pytorch\\cuda\\sparse_pool_ops_cuda.cu -> build\\lib.win-amd64-3.11\\mmcv\\ops\\csrc\\pytorch\\cuda\n",
      "  copying mmcv\\ops\\csrc\\pytorch\\cuda\\sparse_reordering.cu -> build\\lib.win-amd64-3.11\\mmcv\\ops\\csrc\\pytorch\\cuda\n",
      "  copying mmcv\\ops\\csrc\\pytorch\\cuda\\spconv_ops_cuda.cu -> build\\lib.win-amd64-3.11\\mmcv\\ops\\csrc\\pytorch\\cuda\n",
      "  copying mmcv\\ops\\csrc\\pytorch\\cuda\\stack_ball_query_cuda.cu -> build\\lib.win-amd64-3.11\\mmcv\\ops\\csrc\\pytorch\\cuda\n",
      "  copying mmcv\\ops\\csrc\\pytorch\\cuda\\stack_group_points_cuda.cu -> build\\lib.win-amd64-3.11\\mmcv\\ops\\csrc\\pytorch\\cuda\n",
      "  copying mmcv\\ops\\csrc\\pytorch\\cuda\\sync_bn_cuda.cu -> build\\lib.win-amd64-3.11\\mmcv\\ops\\csrc\\pytorch\\cuda\n",
      "  copying mmcv\\ops\\csrc\\pytorch\\cuda\\three_interpolate_cuda.cu -> build\\lib.win-amd64-3.11\\mmcv\\ops\\csrc\\pytorch\\cuda\n",
      "  copying mmcv\\ops\\csrc\\pytorch\\cuda\\three_nn_cuda.cu -> build\\lib.win-amd64-3.11\\mmcv\\ops\\csrc\\pytorch\\cuda\n",
      "  copying mmcv\\ops\\csrc\\pytorch\\cuda\\tin_shift_cuda.cu -> build\\lib.win-amd64-3.11\\mmcv\\ops\\csrc\\pytorch\\cuda\n",
      "  copying mmcv\\ops\\csrc\\pytorch\\cuda\\upfirdn2d_kernel.cu -> build\\lib.win-amd64-3.11\\mmcv\\ops\\csrc\\pytorch\\cuda\n",
      "  copying mmcv\\ops\\csrc\\pytorch\\cuda\\voxelization_cuda.cu -> build\\lib.win-amd64-3.11\\mmcv\\ops\\csrc\\pytorch\\cuda\n",
      "  creating build\\lib.win-amd64-3.11\\mmcv\\ops\\csrc\\pytorch\\mlu\n",
      "  copying mmcv\\ops\\csrc\\pytorch\\mlu\\bbox_overlaps_mlu.cpp -> build\\lib.win-amd64-3.11\\mmcv\\ops\\csrc\\pytorch\\mlu\n",
      "  copying mmcv\\ops\\csrc\\pytorch\\mlu\\carafe_mlu.cpp -> build\\lib.win-amd64-3.11\\mmcv\\ops\\csrc\\pytorch\\mlu\n",
      "  copying mmcv\\ops\\csrc\\pytorch\\mlu\\deform_roi_pool_mlu.cpp -> build\\lib.win-amd64-3.11\\mmcv\\ops\\csrc\\pytorch\\mlu\n",
      "  copying mmcv\\ops\\csrc\\pytorch\\mlu\\focal_loss_sigmoid_mlu.cpp -> build\\lib.win-amd64-3.11\\mmcv\\ops\\csrc\\pytorch\\mlu\n",
      "  copying mmcv\\ops\\csrc\\pytorch\\mlu\\iou3d_mlu.cpp -> build\\lib.win-amd64-3.11\\mmcv\\ops\\csrc\\pytorch\\mlu\n",
      "  copying mmcv\\ops\\csrc\\pytorch\\mlu\\masked_conv2d_mlu.cpp -> build\\lib.win-amd64-3.11\\mmcv\\ops\\csrc\\pytorch\\mlu\n",
      "  copying mmcv\\ops\\csrc\\pytorch\\mlu\\ms_deform_attn_mlu.cpp -> build\\lib.win-amd64-3.11\\mmcv\\ops\\csrc\\pytorch\\mlu\n",
      "  copying mmcv\\ops\\csrc\\pytorch\\mlu\\nms_mlu.cpp -> build\\lib.win-amd64-3.11\\mmcv\\ops\\csrc\\pytorch\\mlu\n",
      "  copying mmcv\\ops\\csrc\\pytorch\\mlu\\psamask_mlu.cpp -> build\\lib.win-amd64-3.11\\mmcv\\ops\\csrc\\pytorch\\mlu\n",
      "  copying mmcv\\ops\\csrc\\pytorch\\mlu\\roi_align_mlu.cpp -> build\\lib.win-amd64-3.11\\mmcv\\ops\\csrc\\pytorch\\mlu\n",
      "  copying mmcv\\ops\\csrc\\pytorch\\mlu\\roi_align_rotated_mlu.cpp -> build\\lib.win-amd64-3.11\\mmcv\\ops\\csrc\\pytorch\\mlu\n",
      "  copying mmcv\\ops\\csrc\\pytorch\\mlu\\roi_pool_mlu.cpp -> build\\lib.win-amd64-3.11\\mmcv\\ops\\csrc\\pytorch\\mlu\n",
      "  copying mmcv\\ops\\csrc\\pytorch\\mlu\\roiaware_pool3d_mlu.cpp -> build\\lib.win-amd64-3.11\\mmcv\\ops\\csrc\\pytorch\\mlu\n",
      "  copying mmcv\\ops\\csrc\\pytorch\\mlu\\roipoint_pool3d_mlu.cpp -> build\\lib.win-amd64-3.11\\mmcv\\ops\\csrc\\pytorch\\mlu\n",
      "  copying mmcv\\ops\\csrc\\pytorch\\mlu\\three_nn_mlu.cpp -> build\\lib.win-amd64-3.11\\mmcv\\ops\\csrc\\pytorch\\mlu\n",
      "  copying mmcv\\ops\\csrc\\pytorch\\mlu\\tin_shift_mlu.cpp -> build\\lib.win-amd64-3.11\\mmcv\\ops\\csrc\\pytorch\\mlu\n",
      "  creating build\\lib.win-amd64-3.11\\mmcv\\ops\\csrc\\pytorch\\mps\n",
      "  copying mmcv\\ops\\csrc\\pytorch\\mps\\bbox_overlaps_mps.mm -> build\\lib.win-amd64-3.11\\mmcv\\ops\\csrc\\pytorch\\mps\n",
      "  creating build\\lib.win-amd64-3.11\\mmcv\\ops\\csrc\\pytorch\\npu\n",
      "  copying mmcv\\ops\\csrc\\pytorch\\npu\\bbox_overlaps_npu.cpp -> build\\lib.win-amd64-3.11\\mmcv\\ops\\csrc\\pytorch\\npu\n",
      "  copying mmcv\\ops\\csrc\\pytorch\\npu\\deform_roi_pool.cpp -> build\\lib.win-amd64-3.11\\mmcv\\ops\\csrc\\pytorch\\npu\n",
      "  copying mmcv\\ops\\csrc\\pytorch\\npu\\focal_loss_npu.cpp -> build\\lib.win-amd64-3.11\\mmcv\\ops\\csrc\\pytorch\\npu\n",
      "  copying mmcv\\ops\\csrc\\pytorch\\npu\\fused_bias_leakyrelu_npu.cpp -> build\\lib.win-amd64-3.11\\mmcv\\ops\\csrc\\pytorch\\npu\n",
      "  copying mmcv\\ops\\csrc\\pytorch\\npu\\gather_points_npu.cpp -> build\\lib.win-amd64-3.11\\mmcv\\ops\\csrc\\pytorch\\npu\n",
      "  copying mmcv\\ops\\csrc\\pytorch\\npu\\nms_npu.cpp -> build\\lib.win-amd64-3.11\\mmcv\\ops\\csrc\\pytorch\\npu\n",
      "  copying mmcv\\ops\\csrc\\pytorch\\npu\\nms_rotated_npu.cpp -> build\\lib.win-amd64-3.11\\mmcv\\ops\\csrc\\pytorch\\npu\n",
      "  copying mmcv\\ops\\csrc\\pytorch\\npu\\psa_mask_npu.cpp -> build\\lib.win-amd64-3.11\\mmcv\\ops\\csrc\\pytorch\\npu\n",
      "  copying mmcv\\ops\\csrc\\pytorch\\npu\\roi_pool_npu.cpp -> build\\lib.win-amd64-3.11\\mmcv\\ops\\csrc\\pytorch\\npu\n",
      "  copying mmcv\\ops\\csrc\\pytorch\\npu\\voxelization_npu.cpp -> build\\lib.win-amd64-3.11\\mmcv\\ops\\csrc\\pytorch\\npu\n",
      "  running build_ext\n",
      "  C:\\Users\\One77\\.conda\\envs\\dl\\Lib\\site-packages\\torch\\utils\\cpp_extension.py:383: UserWarning: Error checking compiler version for cl: [WinError 2] 系统找不到指定的文件。\n",
      "    warnings.warn(f'Error checking compiler version for {compiler}: {error}')\n",
      "  error: Microsoft Visual C++ 14.0 or greater is required. Get it with \"Microsoft C++ Build Tools\": https://visualstudio.microsoft.com/visual-cpp-build-tools/\n",
      "  [end of output]\n",
      "  \n",
      "  note: This error originates from a subprocess, and is likely not a problem with pip.\n",
      "  ERROR: Failed building wheel for mmcv\n",
      "ERROR: Could not build wheels for mmcv, which is required to install pyproject.toml-based projects\n"
     ]
    },
    {
     "name": "stdout",
     "output_type": "stream",
     "text": [
      "\n",
      "Collecting mmcv==2.0.0\n",
      "  Using cached mmcv-2.0.0.tar.gz (473 kB)\n",
      "  Preparing metadata (setup.py): started\n",
      "  Preparing metadata (setup.py): finished with status 'done'\n",
      "Requirement already satisfied: addict in c:\\users\\one77\\.conda\\envs\\dl\\lib\\site-packages (from mmcv==2.0.0) (2.4.0)\n",
      "Requirement already satisfied: mmengine>=0.2.0 in c:\\users\\one77\\.conda\\envs\\dl\\lib\\site-packages (from mmcv==2.0.0) (0.10.2)\n",
      "Requirement already satisfied: numpy in c:\\users\\one77\\.conda\\envs\\dl\\lib\\site-packages (from mmcv==2.0.0) (1.26.3)\n",
      "Requirement already satisfied: packaging in c:\\users\\one77\\.conda\\envs\\dl\\lib\\site-packages (from mmcv==2.0.0) (23.1)\n",
      "Requirement already satisfied: Pillow in c:\\users\\one77\\.conda\\envs\\dl\\lib\\site-packages (from mmcv==2.0.0) (10.2.0)\n",
      "Requirement already satisfied: pyyaml in c:\\users\\one77\\.conda\\envs\\dl\\lib\\site-packages (from mmcv==2.0.0) (6.0.1)\n",
      "Requirement already satisfied: yapf in c:\\users\\one77\\.conda\\envs\\dl\\lib\\site-packages (from mmcv==2.0.0) (0.40.2)\n",
      "Requirement already satisfied: regex in c:\\users\\one77\\.conda\\envs\\dl\\lib\\site-packages (from mmcv==2.0.0) (2023.12.25)\n",
      "Requirement already satisfied: matplotlib in c:\\users\\one77\\.conda\\envs\\dl\\lib\\site-packages (from mmengine>=0.2.0->mmcv==2.0.0) (3.8.2)\n",
      "Requirement already satisfied: rich in c:\\users\\one77\\.conda\\envs\\dl\\lib\\site-packages (from mmengine>=0.2.0->mmcv==2.0.0) (13.4.2)\n",
      "Requirement already satisfied: termcolor in c:\\users\\one77\\.conda\\envs\\dl\\lib\\site-packages (from mmengine>=0.2.0->mmcv==2.0.0) (2.4.0)\n",
      "Requirement already satisfied: opencv-python>=3 in c:\\users\\one77\\.conda\\envs\\dl\\lib\\site-packages (from mmengine>=0.2.0->mmcv==2.0.0) (4.9.0.80)\n",
      "Requirement already satisfied: importlib-metadata>=6.6.0 in c:\\users\\one77\\.conda\\envs\\dl\\lib\\site-packages (from yapf->mmcv==2.0.0) (7.0.1)\n",
      "Requirement already satisfied: platformdirs>=3.5.1 in c:\\users\\one77\\.conda\\envs\\dl\\lib\\site-packages (from yapf->mmcv==2.0.0) (3.10.0)\n",
      "Requirement already satisfied: tomli>=2.0.1 in c:\\users\\one77\\.conda\\envs\\dl\\lib\\site-packages (from yapf->mmcv==2.0.0) (2.0.1)\n",
      "Requirement already satisfied: zipp>=0.5 in c:\\users\\one77\\.conda\\envs\\dl\\lib\\site-packages (from importlib-metadata>=6.6.0->yapf->mmcv==2.0.0) (3.17.0)\n",
      "Requirement already satisfied: contourpy>=1.0.1 in c:\\users\\one77\\.conda\\envs\\dl\\lib\\site-packages (from matplotlib->mmengine>=0.2.0->mmcv==2.0.0) (1.2.0)\n",
      "Requirement already satisfied: cycler>=0.10 in c:\\users\\one77\\.conda\\envs\\dl\\lib\\site-packages (from matplotlib->mmengine>=0.2.0->mmcv==2.0.0) (0.12.1)\n",
      "Requirement already satisfied: fonttools>=4.22.0 in c:\\users\\one77\\.conda\\envs\\dl\\lib\\site-packages (from matplotlib->mmengine>=0.2.0->mmcv==2.0.0) (4.47.0)\n",
      "Requirement already satisfied: kiwisolver>=1.3.1 in c:\\users\\one77\\.conda\\envs\\dl\\lib\\site-packages (from matplotlib->mmengine>=0.2.0->mmcv==2.0.0) (1.4.5)\n",
      "Requirement already satisfied: pyparsing>=2.3.1 in c:\\users\\one77\\.conda\\envs\\dl\\lib\\site-packages (from matplotlib->mmengine>=0.2.0->mmcv==2.0.0) (3.1.1)\n",
      "Requirement already satisfied: python-dateutil>=2.7 in c:\\users\\one77\\.conda\\envs\\dl\\lib\\site-packages (from matplotlib->mmengine>=0.2.0->mmcv==2.0.0) (2.8.2)\n",
      "Requirement already satisfied: markdown-it-py>=2.2.0 in c:\\users\\one77\\.conda\\envs\\dl\\lib\\site-packages (from rich->mmengine>=0.2.0->mmcv==2.0.0) (3.0.0)\n",
      "Requirement already satisfied: pygments<3.0.0,>=2.13.0 in c:\\users\\one77\\.conda\\envs\\dl\\lib\\site-packages (from rich->mmengine>=0.2.0->mmcv==2.0.0) (2.15.1)\n",
      "Requirement already satisfied: mdurl~=0.1 in c:\\users\\one77\\.conda\\envs\\dl\\lib\\site-packages (from markdown-it-py>=2.2.0->rich->mmengine>=0.2.0->mmcv==2.0.0) (0.1.2)\n",
      "Requirement already satisfied: six>=1.5 in c:\\users\\one77\\.conda\\envs\\dl\\lib\\site-packages (from python-dateutil>=2.7->matplotlib->mmengine>=0.2.0->mmcv==2.0.0) (1.16.0)\n",
      "Building wheels for collected packages: mmcv\n",
      "  Building wheel for mmcv (setup.py): started\n",
      "  Building wheel for mmcv (setup.py): finished with status 'error'\n",
      "  Running setup.py clean for mmcv\n",
      "Failed to build mmcv\n"
     ]
    }
   ],
   "source": [
    "!pip install -U openmim\n",
    "!mim install mmengine\n",
    "# !mim install mmcv==2.0.0\n",
    "!mim install mmcv==2.0.0"
   ]
  },
  {
   "cell_type": "markdown",
   "id": "38c55520-071b-41de-91f4-3ec78e16bf27",
   "metadata": {},
   "source": [
    "## 安装其它工具包"
   ]
  },
  {
   "cell_type": "code",
   "execution_count": 36,
   "id": "eb4b3373-f117-46a9-ab43-e67753eb7c61",
   "metadata": {
    "ExecuteTime": {
     "end_time": "2024-01-17T09:36:36.056043300Z",
     "start_time": "2024-01-17T09:36:35.362527600Z"
    }
   },
   "outputs": [
    {
     "name": "stderr",
     "output_type": "stream",
     "text": [
      "ERROR: Invalid requirement: \"'mmdet\"\n"
     ]
    }
   ],
   "source": [
    "!pip install opencv-python pillow matplotlib seaborn tqdm pytorch-lightning 'mmdet>=3.1.0' -i https://pypi.tuna.tsinghua.edu.cn/simple\n",
    "# !pip install setuptools==59.5 prettytable"
   ]
  },
  {
   "cell_type": "markdown",
   "id": "0defb2f8-d5ab-4ee4-a66f-85cc17c221de",
   "metadata": {
    "tags": []
   },
   "source": [
    "## 下载 MMSegmentation"
   ]
  },
  {
   "cell_type": "code",
   "execution_count": 42,
   "id": "89026868-58b1-4755-aca3-ded98451e906",
   "metadata": {
    "ExecuteTime": {
     "end_time": "2024-01-17T09:54:00.157444Z",
     "start_time": "2024-01-17T09:54:00.123797800Z"
    }
   },
   "outputs": [
    {
     "name": "stderr",
     "output_type": "stream",
     "text": [
      "'rm' 不是内部或外部命令，也不是可运行的程序\n",
      "或批处理文件。\n"
     ]
    }
   ],
   "source": [
    "# 删掉原有的 mmsegmentation 文件夹（如有）\n",
    "!rm -rf mmsegmentation"
   ]
  },
  {
   "cell_type": "code",
   "execution_count": 38,
   "id": "09c51fee-d040-46cf-8d86-c0248ab7fe84",
   "metadata": {
    "ExecuteTime": {
     "end_time": "2024-01-17T09:36:57.348733700Z",
     "start_time": "2024-01-17T09:36:36.082563300Z"
    }
   },
   "outputs": [
    {
     "name": "stderr",
     "output_type": "stream",
     "text": [
      "Cloning into 'mmsegmentation'...\n",
      "fatal: unable to access 'https://github.com/open-mmlab/mmsegmentation.git/': Failed to connect to github.com port 443 after 21115 ms: Couldn't connect to server\n"
     ]
    }
   ],
   "source": [
    "# 从 github 上下载最新的 mmsegmentation 源代码\n",
    "\n",
    "!git clone https://github.com/open-mmlab/mmsegmentation.git -b v1.1.2\n",
    "\n",
    "# !git clone https://github.com/open-mmlab/mmsegmentation.git -b v1.2.0"
   ]
  },
  {
   "cell_type": "code",
   "execution_count": 7,
   "id": "b6a71270-f87b-4cf3-87f0-771f45f38c28",
   "metadata": {
    "ExecuteTime": {
     "end_time": "2024-01-17T10:28:50.691678600Z",
     "start_time": "2024-01-17T10:28:50.676659Z"
    }
   },
   "outputs": [],
   "source": [
    "# 进入主目录\n",
    "import os\n",
    "os.chdir('D:\\project\\Placental segmentation\\MMSegmentation_Tutorials-main\\mmsegmentation')"
   ]
  },
  {
   "cell_type": "markdown",
   "id": "f1cd1922-e20a-459a-bf45-e826d8245d88",
   "metadata": {},
   "source": [
    "## 安装 MMSegmentation"
   ]
  },
  {
   "cell_type": "markdown",
   "id": "45ec56703f959908",
   "metadata": {
    "collapsed": false
   },
   "source": []
  },
  {
   "cell_type": "code",
   "execution_count": 9,
   "id": "21e78bae-1d33-478d-8b72-5e8584f6cadf",
   "metadata": {
    "ExecuteTime": {
     "end_time": "2024-01-17T10:29:25.934868500Z",
     "start_time": "2024-01-17T10:29:21.594067500Z"
    }
   },
   "outputs": [
    {
     "name": "stdout",
     "output_type": "stream",
     "text": [
      "Using pip 23.3.1 from C:\\Users\\One77\\.conda\\envs\\MMSegmentation\\lib\\site-packages\\pip (python 3.8)\n",
      "Looking in indexes: https://pypi.tuna.tsinghua.edu.cn/simple\n",
      "Obtaining file:///D:/project/Placental%20segmentation/MMSegmentation_Tutorials-main/mmsegmentation\n",
      "  Preparing metadata (setup.py): started\n",
      "  Preparing metadata (setup.py): finished with status 'done'\n",
      "Requirement already satisfied: matplotlib in c:\\users\\one77\\.conda\\envs\\mmsegmentation\\lib\\site-packages (from mmsegmentation==1.1.1) (3.7.4)\n",
      "Requirement already satisfied: numpy in c:\\users\\one77\\.conda\\envs\\mmsegmentation\\lib\\site-packages (from mmsegmentation==1.1.1) (1.24.4)\n",
      "Requirement already satisfied: packaging in c:\\users\\one77\\.conda\\envs\\mmsegmentation\\lib\\site-packages (from mmsegmentation==1.1.1) (23.1)\n",
      "Collecting prettytable (from mmsegmentation==1.1.1)\n",
      "  Downloading https://pypi.tuna.tsinghua.edu.cn/packages/4d/81/316b6a55a0d1f327d04cc7b0ba9d04058cb62de6c3a4d4b0df280cbe3b0b/prettytable-3.9.0-py3-none-any.whl (27 kB)\n",
      "Requirement already satisfied: scipy in c:\\users\\one77\\.conda\\envs\\mmsegmentation\\lib\\site-packages (from mmsegmentation==1.1.1) (1.10.1)\n",
      "Requirement already satisfied: contourpy>=1.0.1 in c:\\users\\one77\\.conda\\envs\\mmsegmentation\\lib\\site-packages (from matplotlib->mmsegmentation==1.1.1) (1.1.1)\n",
      "Requirement already satisfied: cycler>=0.10 in c:\\users\\one77\\.conda\\envs\\mmsegmentation\\lib\\site-packages (from matplotlib->mmsegmentation==1.1.1) (0.12.1)\n",
      "Requirement already satisfied: fonttools>=4.22.0 in c:\\users\\one77\\.conda\\envs\\mmsegmentation\\lib\\site-packages (from matplotlib->mmsegmentation==1.1.1) (4.47.2)\n",
      "Requirement already satisfied: kiwisolver>=1.0.1 in c:\\users\\one77\\.conda\\envs\\mmsegmentation\\lib\\site-packages (from matplotlib->mmsegmentation==1.1.1) (1.4.5)\n",
      "Requirement already satisfied: pillow>=6.2.0 in c:\\users\\one77\\.conda\\envs\\mmsegmentation\\lib\\site-packages (from matplotlib->mmsegmentation==1.1.1) (10.2.0)\n",
      "Requirement already satisfied: pyparsing>=2.3.1 in c:\\users\\one77\\.conda\\envs\\mmsegmentation\\lib\\site-packages (from matplotlib->mmsegmentation==1.1.1) (3.1.1)\n",
      "Requirement already satisfied: python-dateutil>=2.7 in c:\\users\\one77\\.conda\\envs\\mmsegmentation\\lib\\site-packages (from matplotlib->mmsegmentation==1.1.1) (2.8.2)\n",
      "Requirement already satisfied: importlib-resources>=3.2.0 in c:\\users\\one77\\.conda\\envs\\mmsegmentation\\lib\\site-packages (from matplotlib->mmsegmentation==1.1.1) (6.1.1)\n",
      "Requirement already satisfied: wcwidth in c:\\users\\one77\\.conda\\envs\\mmsegmentation\\lib\\site-packages (from prettytable->mmsegmentation==1.1.1) (0.2.5)\n",
      "Requirement already satisfied: zipp>=3.1.0 in c:\\users\\one77\\.conda\\envs\\mmsegmentation\\lib\\site-packages (from importlib-resources>=3.2.0->matplotlib->mmsegmentation==1.1.1) (3.17.0)\n",
      "Requirement already satisfied: six>=1.5 in c:\\users\\one77\\.conda\\envs\\mmsegmentation\\lib\\site-packages (from python-dateutil>=2.7->matplotlib->mmsegmentation==1.1.1) (1.16.0)\n",
      "Installing collected packages: prettytable, mmsegmentation\n",
      "  Running setup.py develop for mmsegmentation\n",
      "Successfully installed mmsegmentation-1.1.1 prettytable-3.9.0\n"
     ]
    },
    {
     "name": "stderr",
     "output_type": "stream",
     "text": [
      "  Running command python setup.py egg_info\n",
      "  running egg_info\n",
      "  creating C:\\Users\\One77\\AppData\\Local\\Temp\\pip-pip-egg-info-osmjlywl\\mmsegmentation.egg-info\n",
      "  writing manifest file 'C:\\Users\\One77\\AppData\\Local\\Temp\\pip-pip-egg-info-osmjlywl\\mmsegmentation.egg-info\\SOURCES.txt'\n",
      "  warning: no files found matching 'mmaction\\.mim\\dataset-index.yml'\n",
      "  writing manifest file 'C:\\Users\\One77\\AppData\\Local\\Temp\\pip-pip-egg-info-osmjlywl\\mmsegmentation.egg-info\\SOURCES.txt'\n",
      "    Running command python setup.py develop\n",
      "    running develop\n",
      "    running egg_info\n",
      "    C:\\Users\\One77\\.conda\\envs\\MMSegmentation\\lib\\site-packages\\setuptools\\command\\easy_install.py:156: EasyInstallDeprecationWarning: easy_install command is deprecated. Use build and pip and other standards-based tools.\n",
      "      warnings.warn(\n",
      "    C:\\Users\\One77\\.conda\\envs\\MMSegmentation\\lib\\site-packages\\setuptools\\command\\install.py:34: SetuptoolsDeprecationWarning: setup.py install is deprecated. Use build and pip and other standards-based tools.\n",
      "      warnings.warn(\n",
      "    warning: no files found matching 'mmaction\\.mim\\dataset-index.yml'\n",
      "    writing manifest file 'mmsegmentation.egg-info\\SOURCES.txt'\n",
      "    running build_ext\n"
     ]
    }
   ],
   "source": [
    "!pip install -v -e ."
   ]
  },
  {
   "cell_type": "markdown",
   "id": "a828bfe4-82e5-497a-9bda-cb9837df2cb3",
   "metadata": {},
   "source": [
    "## 下载预训练模型权重文件和视频素材"
   ]
  },
  {
   "cell_type": "code",
   "execution_count": 45,
   "id": "5aac1d0c-dbf5-478c-ab80-7e2aa0ab0f01",
   "metadata": {
    "ExecuteTime": {
     "end_time": "2024-01-17T09:54:31.244751400Z",
     "start_time": "2024-01-17T09:54:31.224419300Z"
    }
   },
   "outputs": [
    {
     "ename": "FileExistsError",
     "evalue": "[WinError 183] 当文件已存在时，无法创建该文件。: 'checkpoint'",
     "output_type": "error",
     "traceback": [
      "\u001b[1;31m---------------------------------------------------------------------------\u001b[0m",
      "\u001b[1;31mFileExistsError\u001b[0m                           Traceback (most recent call last)",
      "Cell \u001b[1;32mIn[45], line 4\u001b[0m\n\u001b[0;32m      1\u001b[0m \u001b[38;5;28;01mimport\u001b[39;00m \u001b[38;5;21;01mos\u001b[39;00m\n\u001b[0;32m      3\u001b[0m \u001b[38;5;66;03m# 创建 checkpoint 文件夹，用于存放预训练模型权重文件\u001b[39;00m\n\u001b[1;32m----> 4\u001b[0m os\u001b[38;5;241m.\u001b[39mmkdir(\u001b[38;5;124m'\u001b[39m\u001b[38;5;124mcheckpoint\u001b[39m\u001b[38;5;124m'\u001b[39m)\n\u001b[0;32m      6\u001b[0m \u001b[38;5;66;03m# 创建 outputs 文件夹，用于存放预测结果\u001b[39;00m\n\u001b[0;32m      7\u001b[0m os\u001b[38;5;241m.\u001b[39mmkdir(\u001b[38;5;124m'\u001b[39m\u001b[38;5;124moutputs\u001b[39m\u001b[38;5;124m'\u001b[39m)\n",
      "\u001b[1;31mFileExistsError\u001b[0m: [WinError 183] 当文件已存在时，无法创建该文件。: 'checkpoint'"
     ]
    }
   ],
   "source": [
    "import os\n",
    "\n",
    "# 创建 checkpoint 文件夹，用于存放预训练模型权重文件\n",
    "os.mkdir('checkpoint')\n",
    "\n",
    "# 创建 outputs 文件夹，用于存放预测结果\n",
    "os.mkdir('outputs')\n",
    "\n",
    "# 创建 data 文件夹，用于存放图片和视频素材\n",
    "os.mkdir('data')\n",
    "\n",
    "# 创建 图表 文件夹，用于存放生成的图表\n",
    "os.mkdir('图表')\n",
    "\n",
    "# 创建 Zihao-Configs 文件夹，用于存放自己的语义分割模型的 config 配置文件\n",
    "os.mkdir('one77-Configs')"
   ]
  },
  {
   "cell_type": "markdown",
   "id": "fa97e1da-f245-4d32-892d-dec07a6b2c16",
   "metadata": {},
   "source": [
    "## 检查安装成功"
   ]
  },
  {
   "cell_type": "code",
   "execution_count": 1,
   "id": "424fca02-13cc-493f-8833-ec63900f02d3",
   "metadata": {
    "ExecuteTime": {
     "end_time": "2024-01-17T10:28:02.771098100Z",
     "start_time": "2024-01-17T10:28:00.017555100Z"
    }
   },
   "outputs": [
    {
     "name": "stdout",
     "output_type": "stream",
     "text": [
      "Pytorch 版本 1.10.1+cu113\n",
      "CUDA 是否可用 True\n"
     ]
    }
   ],
   "source": [
    "# 检查 Pytorch\n",
    "import torch, torchvision\n",
    "print('Pytorch 版本', torch.__version__)\n",
    "print('CUDA 是否可用',torch.cuda.is_available())"
   ]
  },
  {
   "cell_type": "code",
   "execution_count": 2,
   "id": "96a6e738-d9d3-4e9f-a053-15bf2f29d43b",
   "metadata": {
    "ExecuteTime": {
     "end_time": "2024-01-17T10:28:06.996264400Z",
     "start_time": "2024-01-17T10:28:05.907209400Z"
    }
   },
   "outputs": [
    {
     "name": "stdout",
     "output_type": "stream",
     "text": [
      "MMCV版本 2.0.0\n",
      "CUDA版本 11.3\n",
      "编译器版本 MSVC 192829924\n"
     ]
    }
   ],
   "source": [
    "# 检查 mmcv\n",
    "import mmcv\n",
    "from mmcv.ops import get_compiling_cuda_version, get_compiler_version\n",
    "print('MMCV版本', mmcv.__version__)\n",
    "print('CUDA版本', get_compiling_cuda_version())\n",
    "print('编译器版本', get_compiler_version())"
   ]
  },
  {
   "cell_type": "code",
   "execution_count": 10,
   "id": "dae8b28c-fa1f-4911-ba27-50ed745e9679",
   "metadata": {
    "ExecuteTime": {
     "end_time": "2024-01-17T10:30:11.337561900Z",
     "start_time": "2024-01-17T10:30:09.845478Z"
    }
   },
   "outputs": [
    {
     "name": "stdout",
     "output_type": "stream",
     "text": [
      "mmsegmentation版本 1.1.1\n"
     ]
    }
   ],
   "source": [
    "# 检查 mmsegmentation\n",
    "import mmseg\n",
    "from mmseg.utils import register_all_modules\n",
    "from mmseg.apis import inference_model, init_model\n",
    "print('mmsegmentation版本', mmseg.__version__)"
   ]
  },
  {
   "cell_type": "markdown",
   "id": "6f89f196-6f70-46a5-9715-ee4755717c13",
   "metadata": {},
   "source": [
    "没有报错，即证明安装成功。"
   ]
  },
  {
   "cell_type": "markdown",
   "id": "a5277a85-e3b0-4d5e-b1f5-b22b6ccf5068",
   "metadata": {
    "tags": []
   },
   "source": [
    "## 设置Matplotlib中文字体"
   ]
  },
  {
   "cell_type": "code",
   "execution_count": null,
   "id": "e05ba7a3-4e4a-4b7e-8501-a25e9f8618fa",
   "metadata": {
    "ExecuteTime": {
     "start_time": "2024-01-17T09:37:03.646703500Z"
    }
   },
   "outputs": [],
   "source": [
    "# # windows操作系统\n",
    "# plt.rcParams['font.sans-serif']=['SimHei']  # 用来正常显示中文标签 \n",
    "# plt.rcParams['axes.unicode_minus']=False  # 用来正常显示负号"
   ]
  },
  {
   "cell_type": "code",
   "execution_count": null,
   "id": "bc0210cb-3e25-45d4-aa63-07fea8130187",
   "metadata": {
    "ExecuteTime": {
     "start_time": "2024-01-17T09:37:03.647705800Z"
    }
   },
   "outputs": [],
   "source": [
    "# Mac操作系统，参考 https://www.ngui.cc/51cto/show-727683.html\n",
    "# 下载 simhei.ttf 字体文件\n",
    "# !wget https://zihao-openmmlab.obs.cn-east-3.myhuaweicloud.com/20220716-mmclassification/dataset/SimHei.ttf"
   ]
  },
  {
   "cell_type": "code",
   "execution_count": 11,
   "id": "fbfa31b1-42a7-4e87-8368-612db5d370d6",
   "metadata": {
    "ExecuteTime": {
     "end_time": "2024-01-17T10:30:16.911643800Z",
     "start_time": "2024-01-17T10:30:16.824595500Z"
    }
   },
   "outputs": [
    {
     "name": "stderr",
     "output_type": "stream",
     "text": [
      "'wget' 不是内部或外部命令，也不是可运行的程序\n",
      "或批处理文件。\n",
      "'rm' 不是内部或外部命令，也不是可运行的程序\n",
      "或批处理文件。\n"
     ]
    }
   ],
   "source": [
    "# Linux操作系统，例如 云GPU平台：https://featurize.cn/?s=d7ce99f842414bfcaea5662a97581bd1\n",
    "# 如果遇到 SSL 相关报错，重新运行本代码块即可\n",
    "!wget https://zihao-openmmlab.obs.cn-east-3.myhuaweicloud.com/20220716-mmclassification/dataset/SimHei.ttf -O /environment/miniconda3/lib/python3.7/site-packages/matplotlib/mpl-data/fonts/ttf/SimHei.ttf\n",
    "!rm -rf /home/featurize/.cache/matplotlib\n",
    "\n",
    "import matplotlib \n",
    "\n",
    "matplotlib.rc(\"font\",family='SimHei') # 中文字体"
   ]
  },
  {
   "cell_type": "code",
   "execution_count": 12,
   "id": "41b217bb-f628-48c2-a5be-108e2f2b7597",
   "metadata": {
    "ExecuteTime": {
     "end_time": "2024-01-17T10:30:28.410898600Z",
     "start_time": "2024-01-17T10:30:28.257805500Z"
    }
   },
   "outputs": [
    {
     "data": {
      "image/png": "[encoded data removed]",
      "text/plain": [
       "<Figure size 640x480 with 1 Axes>"
      ]
     },
     "metadata": {},
     "output_type": "display_data"
    }
   ],
   "source": [
    "import matplotlib.pyplot as plt\n",
    "\n",
    "plt.plot([1,2,3], [100,500,300])\n",
    "plt.title('matplotlib中文字体测试', fontsize=25)\n",
    "plt.xlabel('X轴', fontsize=15)\n",
    "plt.ylabel('Y轴', fontsize=15)\n",
    "plt.show()"
   ]
  },
  {
   "cell_type": "code",
   "execution_count": null,
   "id": "4f20c8d2-7870-4430-88ac-52e2b79f5695",
   "metadata": {
    "ExecuteTime": {
     "start_time": "2024-01-17T09:37:03.650704400Z"
    }
   },
   "outputs": [],
   "source": []
  }
 ],
 "metadata": {
  "kernelspec": {
   "display_name": "dl-kernel",
   "language": "python",
   "name": "dl-kernel"
  },
  "language_info": {
   "codemirror_mode": {
    "name": "ipython",
    "version": 3
   },
   "file_extension": ".py",
   "mimetype": "text/x-python",
   "name": "python",
   "nbconvert_exporter": "python",
   "pygments_lexer": "ipython3",
   "version": "3.10.13"
  }
 },
 "nbformat": 4,
 "nbformat_minor": 5
}
